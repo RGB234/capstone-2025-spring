{
 "cells": [
  {
   "cell_type": "code",
   "execution_count": 1,
   "id": "a6b48693",
   "metadata": {},
   "outputs": [
    {
     "name": "stderr",
     "output_type": "stream",
     "text": [
      "c:\\Users\\fehs0\\miniconda3\\envs\\venv\\Lib\\site-packages\\tqdm\\auto.py:21: TqdmWarning: IProgress not found. Please update jupyter and ipywidgets. See https://ipywidgets.readthedocs.io/en/stable/user_install.html\n",
      "  from .autonotebook import tqdm as notebook_tqdm\n"
     ]
    },
    {
     "data": {
      "text/plain": [
       "Dataset({\n",
       "    features: ['id', 'title', 'query', 'pos'],\n",
       "    num_rows: 363\n",
       "})"
      ]
     },
     "execution_count": 1,
     "metadata": {},
     "output_type": "execute_result"
    }
   ],
   "source": [
    "from datasets import load_dataset\n",
    "\n",
    "ds = load_dataset(\"json\", data_files=\"../../dataset/preprocessing/gpt_output/incidents.jsonl\")['train']\n",
    "ds"
   ]
  },
  {
   "cell_type": "markdown",
   "id": "e2cd38b1",
   "metadata": {},
   "source": [
    "Data validation"
   ]
  },
  {
   "cell_type": "markdown",
   "id": "2d5ac655",
   "metadata": {},
   "source": [
    "id: 348에서 한 문장이 비므로 아래 문장을 추가하여 20개로 보충함.  \n",
    "\n",
    "그러나 사실 피고인 A는 위 일시경 C를 만난 사실이 전혀 없었고, C의 부탁을 받고 C에게 유리한 알리바이를 만들어주기 위해 위와 같이 자신의 기억에 반하는 허위의 진술을 하여 위증하였다."
   ]
  },
  {
   "cell_type": "code",
   "execution_count": 6,
   "id": "9ba9e364",
   "metadata": {},
   "outputs": [],
   "source": [
    "def count_pos_samples(dataset):\n",
    "    K = len(dataset[0]['pos'])\n",
    "    print(f\"K == {K}\")\n",
    "    for i, data in enumerate(dataset):\n",
    "        pos_elements = len(data['pos'])\n",
    "        if (K != pos_elements): \n",
    "            print(dataset[i])\n",
    "            print(pos_elements)"
   ]
  },
  {
   "cell_type": "code",
   "execution_count": 7,
   "id": "cf4dd766",
   "metadata": {},
   "outputs": [
    {
     "name": "stdout",
     "output_type": "stream",
     "text": [
      "K == 20\n"
     ]
    }
   ],
   "source": [
    "count_pos_samples(ds)"
   ]
  },
  {
   "cell_type": "markdown",
   "id": "5fd26720",
   "metadata": {},
   "source": [
    "Train(fine-tuning) / Test 분할  \n",
    "\n",
    "Validation or test 용도로 사용하기 위해 분할.  "
   ]
  },
  {
   "cell_type": "code",
   "execution_count": 8,
   "id": "556617f1",
   "metadata": {},
   "outputs": [],
   "source": [
    "from datasets import load_dataset\n",
    "import json\n",
    "\n",
    "ds_ft = []\n",
    "ds_test = []\n",
    "\n",
    "for i, data in enumerate(ds):\n",
    "    id = data['id']\n",
    "    title = data['title']\n",
    "    query = data['query']\n",
    "    pos = data['pos']\n",
    "    ds_ft.append({'id' : id, 'title': title, 'query': query, 'pos' : pos[:10]})\n",
    "    ds_test.append({'id' : id, 'title': title, 'query': query, 'pos' : pos[10:]})\n",
    "\n",
    "\n",
    "ft_fname = \"incidents_ft.jsonl\"\n",
    "test_fname = \"incidents_test.jsonl\"\n",
    "\n",
    "def save_list_as_jsonl(path : str, list : list):\n",
    "    with open(path, 'w', encoding='utf-8') as f:\n",
    "        for data in list:\n",
    "            json.dump(data, f, ensure_ascii=False)\n",
    "            f.write('\\n')\n",
    "\n",
    "save_list_as_jsonl(f\"../../dataset/preprocessing/{ft_fname}\", ds_ft)\n",
    "save_list_as_jsonl(f\"../../dataset/preprocessing/{test_fname}\", ds_test)"
   ]
  },
  {
   "cell_type": "markdown",
   "id": "69096fb8",
   "metadata": {},
   "source": [
    "확인"
   ]
  },
  {
   "cell_type": "code",
   "execution_count": 9,
   "id": "3c314961",
   "metadata": {},
   "outputs": [],
   "source": [
    "from datasets import load_dataset"
   ]
  },
  {
   "cell_type": "code",
   "execution_count": 11,
   "id": "de598523",
   "metadata": {},
   "outputs": [
    {
     "name": "stderr",
     "output_type": "stream",
     "text": [
      "Generating train split: 363 examples [00:00, 101569.87 examples/s]\n"
     ]
    },
    {
     "data": {
      "text/plain": [
       "Dataset({\n",
       "    features: ['id', 'title', 'query', 'pos'],\n",
       "    num_rows: 363\n",
       "})"
      ]
     },
     "execution_count": 11,
     "metadata": {},
     "output_type": "execute_result"
    }
   ],
   "source": [
    "train_ds = load_dataset(\"json\", data_files=\"../../dataset/preprocessing/incidents_ft.jsonl\", split='train')\n",
    "train_ds"
   ]
  },
  {
   "cell_type": "code",
   "execution_count": null,
   "id": "6ac94781",
   "metadata": {},
   "outputs": [
    {
     "name": "stderr",
     "output_type": "stream",
     "text": [
      "Generating train split: 363 examples [00:00, 32534.13 examples/s]\n"
     ]
    },
    {
     "data": {
      "text/plain": [
       "Dataset({\n",
       "    features: ['id', 'title', 'query', 'pos'],\n",
       "    num_rows: 363\n",
       "})"
      ]
     },
     "execution_count": 9,
     "metadata": {},
     "output_type": "execute_result"
    }
   ],
   "source": [
    "test_ds = load_dataset(\"json\", data_files=\"../../dataset/preprocessing/incidents_val.jsonl\", split='train')\n",
    "test_ds"
   ]
  },
  {
   "cell_type": "code",
   "execution_count": 12,
   "id": "992bad94",
   "metadata": {},
   "outputs": [
    {
     "name": "stdout",
     "output_type": "stream",
     "text": [
      "K == 10\n"
     ]
    }
   ],
   "source": [
    "count_pos_samples(train_ds)"
   ]
  },
  {
   "cell_type": "code",
   "execution_count": 10,
   "id": "3964528c",
   "metadata": {},
   "outputs": [
    {
     "name": "stdout",
     "output_type": "stream",
     "text": [
      "K == 10\n"
     ]
    }
   ],
   "source": [
    "count_pos_samples(test_ds)"
   ]
  },
  {
   "cell_type": "code",
   "execution_count": null,
   "id": "3ea60cbe",
   "metadata": {},
   "outputs": [],
   "source": []
  }
 ],
 "metadata": {
  "kernelspec": {
   "display_name": "venv",
   "language": "python",
   "name": "python3"
  },
  "language_info": {
   "codemirror_mode": {
    "name": "ipython",
    "version": 3
   },
   "file_extension": ".py",
   "mimetype": "text/x-python",
   "name": "python",
   "nbconvert_exporter": "python",
   "pygments_lexer": "ipython3",
   "version": "3.12.7"
  }
 },
 "nbformat": 4,
 "nbformat_minor": 5
}
