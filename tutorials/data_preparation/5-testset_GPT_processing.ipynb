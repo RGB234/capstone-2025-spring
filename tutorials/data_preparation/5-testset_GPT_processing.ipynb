{
 "cells": [
  {
   "cell_type": "markdown",
   "id": "134a8ce7",
   "metadata": {},
   "source": [
    "이전 단계에서 생성한 incidents_val_minedHN.jsonl 파일을  \n",
    "모델 테스트 데이터 포맷으로 변환 및 저장.  \n",
    "\n",
    "incidents_ft_minedHN.jsonl은 그대로 사용가능하므로 냅둔다."
   ]
  },
  {
   "cell_type": "code",
   "execution_count": null,
   "id": "5de96f49",
   "metadata": {},
   "outputs": [
    {
     "name": "stderr",
     "output_type": "stream",
     "text": [
      "c:\\Users\\fehs0\\miniconda3\\envs\\venv\\Lib\\site-packages\\tqdm\\auto.py:21: TqdmWarning: IProgress not found. Please update jupyter and ipywidgets. See https://ipywidgets.readthedocs.io/en/stable/user_install.html\n",
      "  from .autonotebook import tqdm as notebook_tqdm\n",
      "Generating train split: 363 examples [00:00, 20277.45 examples/s]\n",
      "Map: 100%|██████████| 363/363 [00:00<00:00, 10649.24 examples/s]\n"
     ]
    },
    {
     "data": {
      "text/plain": [
       "{'id': '219',\n",
       " 'title': '형법 제87조',\n",
       " 'query': '제87조(내란) 대한민국 영토의 전부 또는 일부에서 국가권력을 배제하거나 국헌을 문란하게 할 목적으로 폭동을 일으킨 자는 다음 각 호의 구분에 따라 처벌한다',\n",
       " 'pos': ['피고인들이 집단을 동원해 국가기관의 정상적 운영을 중단시키기 위해 행정기관 출입을 봉쇄한 사실',\n",
       "  '무력으로 세관과 국경을 점거하여 국가의 영토 통제를 사실상 유린하려 한 사실',\n",
       "  '피고인들이 국가 지도자의 암살을 시도하여 국헌을 문란하게 할 목적으로 폭력을 행사한 사실',\n",
       "  '집단이 정부에 대항하는 무장세력을 조직하고 외국세력의 군사적 지원을 받아 공격을 감행한 사실',\n",
       "  '피고인들이 주요 공공기록과 행정문서를 파괴해 정부 업무 수행을 불가능하게 하려 한 사실',\n",
       "  '무장한 집단이 주둔군과 충돌을 일으켜 군의 지휘체계를 붕괴시키려 한 사실',\n",
       "  '피고인들이 무력을 동원해 입법기관의 개회를 강제로 저지하고 입법권 행사를 방해한 사실',\n",
       "  '집단이 경찰과 군의 이동을 저지하기 위해 도로와 교량을 폭파하려 한 사실',\n",
       "  '피고인들이 지역 내에서 자체 행정·사법 기구를 설치하고 주민들에게 복종을 강요한 사실',\n",
       "  '조직적으로 공공시설의 전력·통신망을 파괴하여 국가 기능 전반을 마비시키려 한 사실'],\n",
       " 'neg': ['피고인은 국기의 도안 위에 특정 인물에 대한 모욕적 문구를 합성해 유포함으로써 국기를 비방하였다.',\n",
       "  '피고인은 국가적 비상사태 기간 중 중요문화재 보관창고에 폭발물을 투입하여 귀중한 재산을 소실시키고 사회적 혼란을 초래한 혐의로 기소되었다.',\n",
       "  '피고인은 피해자를 강제로 차량에서 내리지 못하게 하고 다수의 폭행과 폭언으로 이동을 제한하였다.',\n",
       "  '기소장에 따르면 피고인은 청탁의 대가로 현물(귀금속·명품시계)을 제3자 H에게 보관하도록 하였고 그 물건들은 제134조에 따라 몰수되어야 한다.',\n",
       "  '피고인은 적국을 위하여 군용 차량의 브레이크 라인을 절단해 운용을 불가능하게 했다.',\n",
       "  '피고인은 피해자를 잠들어 있는 상태에서 성폭행하려다 얼굴을 때려 기절하게 하여 상해를 입혔다.',\n",
       "  '피고인과 공범자들은 공동으로 피해자의 주거지에 침입하여 흉기 또는 폭력을 사용해 금품을 강취하였다.',\n",
       "  '피고인은 명도된 건물 내부에 잠입하여 집행관과 관리인의 집기류를 파손하여 집행의 실효를 상실하게 하였다.',\n",
       "  '피고인 S는 국회회의장 부근에서 집단으로 의원석을 향해 큰 소리로 외치며 심의를 방해할 목적으로 물리적·언어적 소동을 벌였다.',\n",
       "  '피고인 Y는 지인 여러 명을 데리고 망치 등을 들고 피해자 주택에 침입, 문단속을 하며 퇴거를 불응하게 하였다.',\n",
       "  '피고인은 아파트 옥상에 설치된 난방용 증기 배관의 안전밸브를 제거하여 과압으로 배관이 파열되게 하였다.',\n",
       "  '피고인은 출입국관리관에게 거짓 국적 및 입국사유를 진술하여 강제출국절차의 집행을 방해하였다.',\n",
       "  '피고인은 경기장 조명전원을 고의로 끊어 대규모 혼란을 야기하고 폭동으로 이어져 관중들이 다수 부상하였다.',\n",
       "  '피해자를 폭행하여 손발을 묶어 항거불능으로 만든 뒤 강제추행을 한 사례이다.',\n",
       "  '피고인은 공개 연설에서 방한한 X국 국가원수를 향해 인격모독적 표현을 사용하며 집회 참가자들에게 동참을 선동하였다.']}"
      ]
     },
     "execution_count": 1,
     "metadata": {},
     "output_type": "execute_result"
    }
   ],
   "source": [
    "from datasets import load_dataset, Features, Value\n",
    "\n",
    "fpath = \"../../dataset/fine-tuning/incidents_val_minedHN.jsonl\"\n",
    "ds = load_dataset('json', data_files=fpath)['train']\n",
    "\n",
    "# 새 피처 정의\n",
    "new_features = Features({\n",
    "    'id': Value('string'),\n",
    "    'title': ds.features['title'],\n",
    "    'query': ds.features['query'],\n",
    "    'pos': ds.features['pos'],\n",
    "    'neg': ds.features['neg'],\n",
    "})\n",
    "\n",
    "\n",
    "# def int_to_str(row):\n",
    "#     row['id'] = str(row['id'])\n",
    "#     return row\n",
    "\n",
    "# ds = ds.map(int_to_str, features=new_features)\n",
    "\n",
    "ds = ds.map(features=new_features)\n",
    "ds[0]"
   ]
  },
  {
   "cell_type": "code",
   "execution_count": 2,
   "id": "544a8600",
   "metadata": {},
   "outputs": [],
   "source": [
    "queries = ds.select_columns(['id', 'query']).rename_column('query', 'text')\n",
    "corpus = ds.select_columns(['id', 'pos']).rename_column('pos', 'text')\n",
    "\n",
    "qrels = ds.select_columns(['id']).rename_column('id', 'qid')\n",
    "\n",
    "qrels = qrels.add_column('docid', ds['id'])\n",
    "qrels = qrels.add_column('relevance', [1] * len(ds)) # 연관도 수치는 1로 고정"
   ]
  },
  {
   "cell_type": "code",
   "execution_count": 3,
   "id": "f3a315aa",
   "metadata": {},
   "outputs": [
    {
     "data": {
      "text/plain": [
       "{'id': '220', 'text': '우두머리는 사형 무기징역 또는 무기금고에 처한다'}"
      ]
     },
     "execution_count": 3,
     "metadata": {},
     "output_type": "execute_result"
    }
   ],
   "source": [
    "queries[1]"
   ]
  },
  {
   "cell_type": "code",
   "execution_count": 4,
   "id": "5ab9e790",
   "metadata": {},
   "outputs": [
    {
     "data": {
      "text/plain": [
       "{'id': '220',\n",
       " 'text': ['피고인은 국가의 치안을 무너뜨릴 목적으로 유사군사조직을 구성·지휘하였다.',\n",
       "  '피고인은 집단행동을 조직하여 탄약과 폭발물을 사용해 다수의 공공시설을 파괴하였다.',\n",
       "  '피고인은 반정부 선언을 발표하고 조직원의 자발적 공격을 조장하여 폭력사태를 촉발했다.',\n",
       "  '피고인은 폭동과 관련한 피해자들의 생명과 재산에 중대한 피해를 발생시키는 구체적·계획적 행위를 지휘했다.',\n",
       "  '피고인은 조직원에게 살상무기 사용을 허용하며 적극적으로 공격행위를 독려하였다.',\n",
       "  '피고인은 시점과 목표를 선정하여 조직적인 충돌을 계획·지휘한 정황이 수사과정에서 확인되었다.',\n",
       "  '피고인은 폭력적 봉기의 최고책임자로 지목되며 다수의 공범을 동원하여 정부기구를 공격하였다.',\n",
       "  '피고인은 공격 명령을 직접 하달하고, 평화적 집회가 무력충돌로 번지도록 조율하였다.',\n",
       "  '피고인은 피해자 진술과 CCTV에 의해 조직적·지휘적 범행 사실이 확인되어 지도자로 기소되었다.',\n",
       "  '피고인은 조직의 우두머리로서 범죄행위에 대한 책임을 인정받아 중형이 구형된 상태이다.']}"
      ]
     },
     "execution_count": 4,
     "metadata": {},
     "output_type": "execute_result"
    }
   ],
   "source": [
    "corpus[1]"
   ]
  },
  {
   "cell_type": "code",
   "execution_count": 5,
   "id": "038a3dd8",
   "metadata": {},
   "outputs": [
    {
     "data": {
      "text/plain": [
       "{'qid': '220', 'docid': '220', 'relevance': 1}"
      ]
     },
     "execution_count": 5,
     "metadata": {},
     "output_type": "execute_result"
    }
   ],
   "source": [
    "qrels[1]"
   ]
  },
  {
   "cell_type": "code",
   "execution_count": 6,
   "id": "735366e7",
   "metadata": {},
   "outputs": [
    {
     "name": "stderr",
     "output_type": "stream",
     "text": [
      "Creating json from Arrow format: 100%|██████████| 1/1 [00:00<00:00, 263.68ba/s]\n",
      "Creating json from Arrow format: 100%|██████████| 1/1 [00:00<00:00, 68.43ba/s]\n",
      "Creating json from Arrow format: 100%|██████████| 1/1 [00:00<00:00, 897.18ba/s]\n"
     ]
    },
    {
     "data": {
      "text/plain": [
       "15246"
      ]
     },
     "execution_count": 6,
     "metadata": {},
     "output_type": "execute_result"
    }
   ],
   "source": [
    "queries.to_json(\"../../dataset/test/gpt_test_queries.jsonl\", force_ascii=False)\n",
    "corpus.to_json(\"../../dataset/test/gpt_test_corpus.jsonl\", force_ascii=False)\n",
    "qrels.to_json(\"../../dataset/test/gpt_test_qrels.jsonl\", force_ascii=False)"
   ]
  },
  {
   "cell_type": "code",
   "execution_count": null,
   "id": "5842e34e",
   "metadata": {},
   "outputs": [],
   "source": []
  }
 ],
 "metadata": {
  "kernelspec": {
   "display_name": "venv",
   "language": "python",
   "name": "python3"
  },
  "language_info": {
   "codemirror_mode": {
    "name": "ipython",
    "version": 3
   },
   "file_extension": ".py",
   "mimetype": "text/x-python",
   "name": "python",
   "nbconvert_exporter": "python",
   "pygments_lexer": "ipython3",
   "version": "3.12.7"
  }
 },
 "nbformat": 4,
 "nbformat_minor": 5
}
