{
 "cells": [
  {
   "cell_type": "markdown",
   "id": "5da363f6",
   "metadata": {},
   "source": [
    "1. hard_negative_mining.py 작성\n",
    "2. 쉘 스크립트 작성하여 GPU서버에서 hard_negative.mining.py 실행  \n",
    "- hard_negative_mining_ft.sh  \n",
    "- hard_negative_mining_test.sh  "
   ]
  },
  {
   "cell_type": "markdown",
   "id": "4024cbf7",
   "metadata": {},
   "source": [
    "네거티브 샘플 수 전부 동일한 지 검증"
   ]
  },
  {
   "cell_type": "code",
   "execution_count": null,
   "id": "0ad9c3c4",
   "metadata": {},
   "outputs": [],
   "source": [
    "def count_pos_samples(dataset):\n",
    "    K = len(dataset[0]['pos'])\n",
    "    print(f\"K == {K}\")\n",
    "    for i, data in enumerate(dataset):\n",
    "        pos_elements = len(data['pos'])\n",
    "        if (K != pos_elements): \n",
    "            print(dataset[i])\n",
    "            print(pos_elements)\n",
    "\n",
    "def count_neg_samples(dataset):\n",
    "    K = len(dataset[0]['neg'])\n",
    "    print(f\"K == {K}\")\n",
    "    for i, data in enumerate(dataset):\n",
    "        pos_elements = len(data['neg'])\n",
    "        if (K != pos_elements): \n",
    "            print(dataset[i])\n",
    "            print(pos_elements)"
   ]
  },
  {
   "cell_type": "code",
   "execution_count": null,
   "id": "4040cc1b",
   "metadata": {},
   "outputs": [
    {
     "data": {
      "text/plain": [
       "Dataset({\n",
       "    features: ['id', 'title', 'query', 'pos', 'neg'],\n",
       "    num_rows: 363\n",
       "})"
      ]
     },
     "execution_count": 6,
     "metadata": {},
     "output_type": "execute_result"
    }
   ],
   "source": [
    "from datasets import load_dataset\n",
    "\n",
    "ft_ds = load_dataset(\"json\", data_files=\"../../dataset/fine-tuning/incidents_ft_minedHN.jsonl\")['train']\n",
    "ft_ds"
   ]
  },
  {
   "cell_type": "code",
   "execution_count": null,
   "id": "776fd447",
   "metadata": {},
   "outputs": [
    {
     "name": "stdout",
     "output_type": "stream",
     "text": [
      "K == 10\n",
      "K == 15\n"
     ]
    }
   ],
   "source": [
    "count_pos_samples(ft_ds) # 10\n",
    "count_neg_samples(ft_ds) # 15"
   ]
  },
  {
   "cell_type": "code",
   "execution_count": null,
   "id": "c61b29ce",
   "metadata": {},
   "outputs": [
    {
     "name": "stderr",
     "output_type": "stream",
     "text": [
      "Generating train split: 363 examples [00:00, 26194.10 examples/s]\n"
     ]
    },
    {
     "data": {
      "text/plain": [
       "Dataset({\n",
       "    features: ['id', 'title', 'query', 'pos', 'neg'],\n",
       "    num_rows: 363\n",
       "})"
      ]
     },
     "execution_count": 14,
     "metadata": {},
     "output_type": "execute_result"
    }
   ],
   "source": [
    "test_ds = load_dataset(\"json\", data_files=\"../../dataset/fine-tuning/incidents_val_minedHN.jsonl\")['train']\n",
    "test_ds"
   ]
  },
  {
   "cell_type": "code",
   "execution_count": 15,
   "id": "ffbe1955",
   "metadata": {},
   "outputs": [
    {
     "name": "stdout",
     "output_type": "stream",
     "text": [
      "K == 10\n",
      "K == 15\n"
     ]
    }
   ],
   "source": [
    "count_pos_samples(test_ds) # 10\n",
    "count_neg_samples(test_ds) # 15"
   ]
  },
  {
   "cell_type": "markdown",
   "id": "68ad51fc",
   "metadata": {},
   "source": [
    "결과:  \n",
    "incidents_ft_minedHN.jsonl or incidents_test_minedHN.jsonl 행 데이터 예시"
   ]
  },
  {
   "cell_type": "code",
   "execution_count": null,
   "id": "a0f5ca1f",
   "metadata": {},
   "outputs": [
    {
     "data": {
      "text/plain": [
       "{'id': 410,\n",
       " 'title': '제181조',\n",
       " 'query': '제181조(과실일수) 과실로 인하여 현주건조물 공용건조물 일반건조물 기차 전차 자동차 선박 항공기 또는 광갱을 침해하여 공공의 위험을 발생하게 한 자는 1천만원 이하의 벌금에 처한다',\n",
       " 'pos': ['피고인은 부주의하게 담배꽁초를 창문 밖으로 던져 아파트 화단에 불이 붙어 입주민들의 대피騒動이 발생한 사실이 있다.',\n",
       "  '피고인은 공사장에서 안전수칙을 미준수한 채 불꽃작업을 하다가 불씨가 건조물 내로 튀어 집기류에 불이 옮겨붙는 사고로 소방대가 출동했다.',\n",
       "  '피고인은 차량 정비 작업 시 배터리 탈거 중 스파크로 차량 내부에 불이 번져 인근 주차장의 다른 차량들까지 불이 번질 위험을 초래하였다.',\n",
       "  '피고인이 항공기 정비 도중 기체 주변에서 인화성 물질을 부주의하게 취급하여 조종실 부근에서 연소가 시작되어 탑승객 승·하차가 통제된 일이 있다.'],\n",
       " 'neg': ['동거가족에 해당하는 형제의 차량 소유에 대해 피고인이 무단으로 처분하여 권리행사를 방해하였으나, 동거 친족 관계이므로 형이 면제되었다.',\n",
       "  '피고인은 4명의 공범들과 함께 금속 파이프를 들고 회사 건물로 침입하여 유리문을 부수고 집기를 파손하였다.',\n",
       "  '피고인은 자신의 보호를 받는 만 15세의 아동을 위험한 건설 현장에서 잡일을 하도록 건설업자에게 넘겨주었다.',\n",
       "  '선상 강도단 일원인 피고인은 선장 가족을 위협하여 돈을 뺏고, 선장의 부인을 강간하여 피해자가 정신적·육체적으로 중상을 입게 하였다.',\n",
       "  '피고인은 경쟁 업체 대표가 불법 영업을 한다는 허위 사실을 지역 신문사에 제보하여 기사화되게 하여 명예를 훼손하였다.',\n",
       "  '피고인은 도로 위를 달리던 시외버스를 미리 준비한 장애물을 이용해 전복시켜 다수의 승객이 다치게 하였다.',\n",
       "  '철도 유지보수 업무를 담당하는 직원이 주행 중인 기차의 선로 이상을 발견하고도 즉시 조치하지 않아, 결국 기차가 전복되어 심각한 교통장애를 발생시켰다.',\n",
       "  '피고인은 아파트 가스계량기를 절단 및 제거함으로써 세대별 가스공급이 어려워지게 하였다.',\n",
       "  '피고인은 반대파 집회의 일환으로 고속도로에 타이어를 쌓아놓고 불을 질러 차량 진입을 불가능하게 하였다.',\n",
       "  '피고인은 동업자에게 협박 전화를 걸어 위협한 뒤 회사 금고의 돈 100만 원을 건네받았다.',\n",
       "  '피고인은 농수로용 댐의 배수시설을 고의적으로 차단, 폭우로 인해 인근 기차역 대합실에 물이 범람하여 대합실에 있던 1명이 중상해를 당했다.',\n",
       "  '피고는 해상에서 어선에 무단 침입하여 선장에게 둔기를 휘둘러 두개골 골절상을 입도록 하였다.',\n",
       "  'A씨는 경쟁 기업의 항공기 격납고를 대상으로 인근 저수지의 수문을 불법으로 개방해 대규모의 물을 건조물 내부로 유입시켜 항공기 및 격납고를 심각하게 손상시켰다.',\n",
       "  '세무 공무원이 없는 세금 체납 사실을 내세워 납세자에게 부당하게 행정제재 업무를 시켜 이행의무 없는 일을 하게 한 경우',\n",
       "  '시민단체 관계자인 피고인은 한 지방자치단체장의 비리 사실을 언론을 통해 발표하였고, 이로 인해 명예훼손으로 고소되었으나, 해당 내용이 사실이며 시민의 알 권리 보장을 위해 행해졌다.',\n",
       "  '피고인은 자신의 공장에 설치된 보일러의 안전장치를 고의로 해체한 후 운전하여 보일러가 폭발, 인근 주택가에 파편이 낙하해 주민들에게 위험을 초래하였다.',\n",
       "  '피고인은 야간에 주거에 침입하여 금품을 절취하던 중 이를 발견한 피해자가 소리를 지르자 체포를 면탈할 목적으로 피해자의 팔을 잡아 비틀며 밀치는 등 폭행을 가하였다.',\n",
       "  '피고인은 서울시내 운행 중이던 시내버스 내부에 불을 질러 공익을 위해 사용되는 자동차를 방화하였다.',\n",
       "  '피고인은 화재 현장에서 소방차가 사용하는 소화전을 고의로 파손하여 진화 활동을 어렵게 하였다.',\n",
       "  '피의자는 상대방에게 신체적 해를 가하겠다고 위협하여 자동차를 양도받았다.',\n",
       "  '철도공사 작업자가 안전규정을 위반한 채 선로 위에 장비를 방치하여, 그 장비에 기차가 부딪혀 전복되고 파괴되어 교통이 방해되었다.',\n",
       "  '피의자는 전원주택 단지 근처 농수로의 둑을 고의적으로 터뜨려 거주민이 현존하는 주택 3채가 침수 피해를 입게 했다.',\n",
       "  'A씨는 자신의 부주의로 인해 콘센트에 많은 전기제품을 동시에 연결하다 단락이 발생, 타인 소유의 원룸 건물에 화재가 발생하여 일부가 불에 탔다.',\n",
       "  '피고인은 자신 소유의 주택을 더 이상 유지하기 어렵다고 판단하여, 미리 준비한 성냥으로 주택 내부에 불을 질러 건물을 전소시킨 행위가 있다.',\n",
       "  '1. 피고인이 세관 공무원으로 근무하던 중, 직무상 봉함되어 보관되어야 할 과세자료를 무단으로 개봉하고 그 내용을 임의로 열람하였다.',\n",
       "  '피고인은 하천에 토사 및 폐기물을 투기하여 선박의 정상 운항이 불가능하게 하였다.',\n",
       "  '피고인은 피해자를 협박하여 피해자의 소지 금 500만원을 지급받았다.',\n",
       "  '피고인은 도심 지역에 위치한 변전실 담장을 넘어 침입한 뒤, 전기 공급을 담당하는 주요 분전반을 망치로 파손하여 해당 지역 일대에 대규모 정전 사태를 초래하였다.',\n",
       "  '피고인은 특정 업체와 사전에 담합해 낙찰 가격을 조정하고, 다른 입찰 참가자들의 입찰 참여를 방해하여 정상적인 입찰 절차를 저해하였다.',\n",
       "  '피고인은 시청 건설과 소속 공무원으로서, 지역 건설업체로부터 공사 수주를 대가로 1,000만원을 수수하기로 약속한 후 해당 업체에게 내부 정보를 유출하여 입찰에서 유리하게 하였다.',\n",
       "  '피의자는 화학공장 저장 탱크의 밸브를 몰래 열어 증기를 유출시키고 주변 차량 및 건물 재산에 손상을 가하였다.',\n",
       "  '피고인은 자신 명의 자동차 내부에 불을 질러 주차 중인 여러 주변 차량에 화재가 전이될 위험을 초래하였다.']}"
      ]
     },
     "execution_count": 1,
     "metadata": {},
     "output_type": "execute_result"
    }
   ],
   "source": [
    "{\n",
    "    \"id\": 410,\n",
    "    \"title\": \"제181조\",\n",
    "    \"query\": \"제181조(과실일수) 과실로 인하여 현주건조물 공용건조물 일반건조물 기차 전차 자동차 선박 항공기 또는 광갱을 침해하여 공공의 위험을 발생하게 한 자는 1천만원 이하의 벌금에 처한다\",\n",
    "    \"pos\": [\n",
    "        \"피고인은 부주의하게 담배꽁초를 창문 밖으로 던져 아파트 화단에 불이 붙어 입주민들의 대피騒動이 발생한 사실이 있다.\",\n",
    "        \"피고인은 공사장에서 안전수칙을 미준수한 채 불꽃작업을 하다가 불씨가 건조물 내로 튀어 집기류에 불이 옮겨붙는 사고로 소방대가 출동했다.\",\n",
    "        \"피고인은 차량 정비 작업 시 배터리 탈거 중 스파크로 차량 내부에 불이 번져 인근 주차장의 다른 차량들까지 불이 번질 위험을 초래하였다.\",\n",
    "        \"피고인이 항공기 정비 도중 기체 주변에서 인화성 물질을 부주의하게 취급하여 조종실 부근에서 연소가 시작되어 탑승객 승·하차가 통제된 일이 있다.\",\n",
    "    ],\n",
    "    \"neg\": [ # 32\n",
    "        \"동거가족에 해당하는 형제의 차량 소유에 대해 피고인이 무단으로 처분하여 권리행사를 방해하였으나, 동거 친족 관계이므로 형이 면제되었다.\",\n",
    "        \"피고인은 4명의 공범들과 함께 금속 파이프를 들고 회사 건물로 침입하여 유리문을 부수고 집기를 파손하였다.\",\n",
    "        # ...\n",
    "    ],\n",
    "}"
   ]
  }
 ],
 "metadata": {
  "kernelspec": {
   "display_name": "venv",
   "language": "python",
   "name": "python3"
  },
  "language_info": {
   "codemirror_mode": {
    "name": "ipython",
    "version": 3
   },
   "file_extension": ".py",
   "mimetype": "text/x-python",
   "name": "python",
   "nbconvert_exporter": "python",
   "pygments_lexer": "ipython3",
   "version": "3.12.7"
  }
 },
 "nbformat": 4,
 "nbformat_minor": 5
}
