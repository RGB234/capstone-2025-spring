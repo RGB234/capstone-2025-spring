{
 "cells": [
  {
   "cell_type": "markdown",
   "id": "134a8ce7",
   "metadata": {},
   "source": [
    "이전 단계에서 생성한 incidents_test_minedHN.jsonl 파일을  \n",
    "모델 테스트 데이터 포맷으로 변환 및 저장.  \n",
    "\n",
    "incidents_ft_minedHN.jsonl은 그대로 사용가능하므로 냅둔다.\n"
   ]
  },
  {
   "cell_type": "code",
   "execution_count": null,
   "id": "5de96f49",
   "metadata": {},
   "outputs": [],
   "source": [
    "from datasets import load_dataset, Features, Value\n",
    "\n",
    "fpath = \"../dataset/preprocessing/incidents_test_minedHN.jsonl\"\n",
    "ds = load_dataset('json', data_files=fpath)['train']\n",
    "\n",
    "# 새 피처 정의\n",
    "new_features = Features({\n",
    "    'id': Value('string'),\n",
    "    'title': ds.features['title'],\n",
    "    'query': ds.features['query'],\n",
    "    'pos': ds.features['pos'],\n",
    "    'neg': ds.features['neg'],\n",
    "})\n",
    "\n",
    "# ds = ds(new_features)\n",
    "\n",
    "\n",
    "def int_to_str(row):\n",
    "    row['id'] = str(row['id'])\n",
    "    return row\n",
    "\n",
    "ds = ds.map(features=new_features)\n",
    "# ds = ds.map(int_to_str, features=new_features)\n",
    "ds[0]"
   ]
  },
  {
   "cell_type": "code",
   "execution_count": null,
   "id": "544a8600",
   "metadata": {},
   "outputs": [],
   "source": [
    "queries = ds.select_columns(['id', 'query'])\n",
    "queries = queries.rename_column('query', 'text')\n",
    "\n",
    "corpus = ds.select_columns(['id', 'pos'])\n",
    "corpus = corpus.rename_column('pos', 'text')\n",
    "\n",
    "qrels = ds.select_columns(['id'])\n",
    "qrels = qrels.rename_column('id', 'qid')\n",
    "qrels = qrels.add_column('docid', ds['id'])\n",
    "qrels = qrels.add_column('relevance', [1] * len(ds)) # 연관도 수치는 1로 고정"
   ]
  },
  {
   "cell_type": "code",
   "execution_count": null,
   "id": "f3a315aa",
   "metadata": {},
   "outputs": [],
   "source": [
    "queries[1]"
   ]
  },
  {
   "cell_type": "code",
   "execution_count": null,
   "id": "5ab9e790",
   "metadata": {},
   "outputs": [],
   "source": [
    "corpus[1]"
   ]
  },
  {
   "cell_type": "code",
   "execution_count": null,
   "id": "038a3dd8",
   "metadata": {},
   "outputs": [],
   "source": [
    "qrels[1]"
   ]
  },
  {
   "cell_type": "code",
   "execution_count": null,
   "id": "735366e7",
   "metadata": {},
   "outputs": [],
   "source": [
    "queries.to_json(\"../dataset/test/gpt_test_queries.jsonl\", force_ascii=False)\n",
    "corpus.to_json(\"../dataset/test/gpt_test_corpus.jsonl\", force_ascii=False)\n",
    "qrels.to_json(\"../dataset/test/gpt_test_qrels.jsonl\", force_ascii=False)"
   ]
  }
 ],
 "metadata": {
  "language_info": {
   "name": "python"
  }
 },
 "nbformat": 4,
 "nbformat_minor": 5
}
