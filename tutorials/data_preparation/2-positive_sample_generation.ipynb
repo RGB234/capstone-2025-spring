{
 "cells": [
  {
   "cell_type": "markdown",
   "id": "04975ad9",
   "metadata": {},
   "source": [
    "### queries.jsonl -> queries-edited.jsonl \n",
    "\n",
    "queries.jsonl : 형법.xlsx -> queries.jsonl\n",
    "\n",
    "queries-edited.jsonl은 형법.jsonl 에서 아래 규칙을 적용하여,  \n",
    "사람이 직접 검토 수정한 데이터. 코드로는 미구현됨   \n",
    "\n",
    "1. 형법 제1편 제외, 기타 조항 제외.  \n",
    "\n",
    "형에 대한 조항보다 무엇이 범법행위에 해당하는 지 위주로 진행  \n",
    "id 472 부터 미수범, 예비음모 처리X (아예 제외)  \n",
    "id 512 부터 병과 처리 X  \n",
    "id 545 부터 상습범 처리 X  \n",
    "형의 감경 처리 X  \n",
    "세계주의 처리 X  \n",
    "친족간의 범행 처리 X  \n",
    "\n",
    "2. Query expansion  \n",
    "\n",
    "-의 예에 의한다, 전항의 예에 따른다 등 참조표현 대체 및 정보추가.  "
   ]
  },
  {
   "cell_type": "code",
   "execution_count": 1,
   "id": "0bffafa1",
   "metadata": {},
   "outputs": [
    {
     "name": "stderr",
     "output_type": "stream",
     "text": [
      "c:\\Users\\fehs0\\miniconda3\\envs\\llm\\lib\\site-packages\\tqdm\\auto.py:21: TqdmWarning: IProgress not found. Please update jupyter and ipywidgets. See https://ipywidgets.readthedocs.io/en/stable/user_install.html\n",
      "  from .autonotebook import tqdm as notebook_tqdm\n"
     ]
    },
    {
     "data": {
      "text/html": [
       "<div>\n",
       "<style scoped>\n",
       "    .dataframe tbody tr th:only-of-type {\n",
       "        vertical-align: middle;\n",
       "    }\n",
       "\n",
       "    .dataframe tbody tr th {\n",
       "        vertical-align: top;\n",
       "    }\n",
       "\n",
       "    .dataframe thead th {\n",
       "        text-align: right;\n",
       "    }\n",
       "</style>\n",
       "<table border=\"1\" class=\"dataframe\">\n",
       "  <thead>\n",
       "    <tr style=\"text-align: right;\">\n",
       "      <th></th>\n",
       "      <th>id</th>\n",
       "      <th>title</th>\n",
       "      <th>content</th>\n",
       "    </tr>\n",
       "  </thead>\n",
       "  <tbody>\n",
       "    <tr>\n",
       "      <th>0</th>\n",
       "      <td>219</td>\n",
       "      <td>형법 제87조</td>\n",
       "      <td>제87조(내란) 대한민국 영토의 전부 또는 일부에서 국가권력을 배제하거나 국헌을 문...</td>\n",
       "    </tr>\n",
       "    <tr>\n",
       "      <th>1</th>\n",
       "      <td>220</td>\n",
       "      <td>형법 제87조 제1호</td>\n",
       "      <td>우두머리는 사형 무기징역 또는 무기금고에 처한다</td>\n",
       "    </tr>\n",
       "    <tr>\n",
       "      <th>2</th>\n",
       "      <td>221</td>\n",
       "      <td>형법 제87조 제2호</td>\n",
       "      <td>모의에 참여하거나 지휘하거나 그 밖의 중요한 임무에 종사한 자는 사형 무기 또는 5...</td>\n",
       "    </tr>\n",
       "    <tr>\n",
       "      <th>3</th>\n",
       "      <td>222</td>\n",
       "      <td>형법 제87조 제3호</td>\n",
       "      <td>부화수행(附和隨行)하거나 단순히 폭동에만 관여한 자는 5년 이하의 징역이나 금고에 처한다</td>\n",
       "    </tr>\n",
       "    <tr>\n",
       "      <th>4</th>\n",
       "      <td>223</td>\n",
       "      <td>형법 제88조</td>\n",
       "      <td>제88조(내란목적의 살인) 대한민국 영토의 전부 또는 일부에서 국가권력을 배제하거나...</td>\n",
       "    </tr>\n",
       "    <tr>\n",
       "      <th>...</th>\n",
       "      <td>...</td>\n",
       "      <td>...</td>\n",
       "      <td>...</td>\n",
       "    </tr>\n",
       "    <tr>\n",
       "      <th>358</th>\n",
       "      <td>755</td>\n",
       "      <td>형법 제368조 제2항</td>\n",
       "      <td>재물손괴죄 또는 중손괴의 죄를 범하여 사람을 상해에 이르게 한 때에는 1년 이상의 ...</td>\n",
       "    </tr>\n",
       "    <tr>\n",
       "      <th>359</th>\n",
       "      <td>757</td>\n",
       "      <td>형법 제369조 제1항</td>\n",
       "      <td>단체 또는 다중의 위력을 보이거나 위험한 물건을 휴대하여 재물손괴죄를 범한 때에는 ...</td>\n",
       "    </tr>\n",
       "    <tr>\n",
       "      <th>360</th>\n",
       "      <td>758</td>\n",
       "      <td>형법 제369조 제2항</td>\n",
       "      <td>단체 또는 다중의 위력을 보이거나 위험한 물건을 휴대하여 중손괴죄를 범한 때에는 1...</td>\n",
       "    </tr>\n",
       "    <tr>\n",
       "      <th>361</th>\n",
       "      <td>759</td>\n",
       "      <td>형법 제370조</td>\n",
       "      <td>제370조(경계침범) 경계표를 손괴 이동 또는 제거하거나 기타 방법으로 토지의 경계...</td>\n",
       "    </tr>\n",
       "    <tr>\n",
       "      <th>362</th>\n",
       "      <td>761</td>\n",
       "      <td>형법 제372조</td>\n",
       "      <td>제372조(동력) 손괴의 죄에 관한 본장에서 관리할 수 있는 동력은 재물로 간주한다</td>\n",
       "    </tr>\n",
       "  </tbody>\n",
       "</table>\n",
       "<p>363 rows × 3 columns</p>\n",
       "</div>"
      ],
      "text/plain": [
       "      id         title                                            content\n",
       "0    219       형법 제87조  제87조(내란) 대한민국 영토의 전부 또는 일부에서 국가권력을 배제하거나 국헌을 문...\n",
       "1    220   형법 제87조 제1호                         우두머리는 사형 무기징역 또는 무기금고에 처한다\n",
       "2    221   형법 제87조 제2호  모의에 참여하거나 지휘하거나 그 밖의 중요한 임무에 종사한 자는 사형 무기 또는 5...\n",
       "3    222   형법 제87조 제3호  부화수행(附和隨行)하거나 단순히 폭동에만 관여한 자는 5년 이하의 징역이나 금고에 처한다\n",
       "4    223       형법 제88조  제88조(내란목적의 살인) 대한민국 영토의 전부 또는 일부에서 국가권력을 배제하거나...\n",
       "..   ...           ...                                                ...\n",
       "358  755  형법 제368조 제2항  재물손괴죄 또는 중손괴의 죄를 범하여 사람을 상해에 이르게 한 때에는 1년 이상의 ...\n",
       "359  757  형법 제369조 제1항  단체 또는 다중의 위력을 보이거나 위험한 물건을 휴대하여 재물손괴죄를 범한 때에는 ...\n",
       "360  758  형법 제369조 제2항  단체 또는 다중의 위력을 보이거나 위험한 물건을 휴대하여 중손괴죄를 범한 때에는 1...\n",
       "361  759      형법 제370조  제370조(경계침범) 경계표를 손괴 이동 또는 제거하거나 기타 방법으로 토지의 경계...\n",
       "362  761      형법 제372조     제372조(동력) 손괴의 죄에 관한 본장에서 관리할 수 있는 동력은 재물로 간주한다\n",
       "\n",
       "[363 rows x 3 columns]"
      ]
     },
     "execution_count": 1,
     "metadata": {},
     "output_type": "execute_result"
    }
   ],
   "source": [
    "from datasets import load_dataset\n",
    "import pandas as pd\n",
    "\n",
    "dataset = load_dataset(\"json\", data_files=\"../../dataset/preprocessing/gpt_input/queries-edited.jsonl\")['train'] # query expansion 된 데이터\n",
    "\n",
    "df = pd.DataFrame(dataset)\n",
    "df"
   ]
  },
  {
   "cell_type": "markdown",
   "id": "12097e7f",
   "metadata": {},
   "source": [
    "## GPT 문장 생성으로 query-pos 튜닝 데이터셋 구축"
   ]
  },
  {
   "cell_type": "markdown",
   "id": "73865941",
   "metadata": {},
   "source": [
    "### Asynchronous API 요청"
   ]
  },
  {
   "cell_type": "code",
   "execution_count": null,
   "id": "ca7959ef",
   "metadata": {},
   "outputs": [],
   "source": [
    "from openai import AsyncOpenAI\n",
    "from pydantic import BaseModel\n",
    "import pandas as pd\n",
    "import json\n",
    "import os\n",
    "from tqdm.asyncio import tqdm_asyncio\n",
    "import asyncio\n",
    "\n",
    "class Triplet(BaseModel):\n",
    "    id : int\n",
    "    title : str\n",
    "    query: str\n",
    "    pos: list[str]\n",
    "\n",
    "async def process_row_async(row, instructions, client):\n",
    "    id = row['id']\n",
    "    title = row['title']\n",
    "    query = row['content']\n",
    "    prompt = f\"\\\"id\\\" : {id}, \\\"title\\\" : {title}, \\\"query\\\" : \\\"{query}\\\"\"\n",
    "\n",
    "    try:\n",
    "        response = await client.responses.parse(\n",
    "            model='gpt-5-mini',\n",
    "            instructions=instructions,\n",
    "            input=[{\"role\": \"user\", \"content\": prompt}],\n",
    "            text_format=Triplet,\n",
    "        )\n",
    "        return dict(response.output_parsed)\n",
    "    except Exception as e:\n",
    "        print(f\"Error in row {title} : {e}\")\n",
    "        return {'id': id , 'title': title, 'query': query, 'pos': []}\n",
    "    \n",
    "async def generate_sentences_async(instrctions, client, queries : pd.DataFrame, dir_path: str,concurrency: int = 6):\n",
    "    sem = asyncio.Semaphore(concurrency) # 병렬 처리 수 제한\n",
    "\n",
    "    async def sem_task(row):\n",
    "        async with sem:\n",
    "            return await process_row_async(row, instrctions, client)\n",
    "        \n",
    "    tasks = [sem_task(row) for _, row in queries.iterrows()]\n",
    "    results = []\n",
    "\n",
    "    for coro in tqdm_asyncio.as_completed(tasks, total=len(tasks), desc=\"Processing\"):\n",
    "        result = await coro\n",
    "        if result:\n",
    "            results.append(result)\n",
    "\n",
    "    os.makedirs(dir_path, exist_ok=True)\n",
    "    fname = \"incidents.jsonl\"\n",
    "    path = os.path.join(dir_path, fname)\n",
    "\n",
    "    # 비동기 처리 결과값들 원래 쿼리 데이터 순서대로 정렬\n",
    "    sorted_results = sorted(results, key=lambda x : x['id'])\n",
    "\n",
    "    with open(path, 'w', encoding='utf-8') as f:\n",
    "        for res in sorted_results:\n",
    "            json.dump(res, f, ensure_ascii=False)\n",
    "            f.write('\\n')"
   ]
  },
  {
   "cell_type": "markdown",
   "id": "19904d02",
   "metadata": {},
   "source": [
    "문장 생성"
   ]
  },
  {
   "cell_type": "code",
   "execution_count": 6,
   "id": "259f7699",
   "metadata": {},
   "outputs": [
    {
     "name": "stderr",
     "output_type": "stream",
     "text": [
      "Processing: 100%|██████████| 363/363 [27:51<00:00,  4.61s/it]\n"
     ]
    }
   ],
   "source": [
    "from dotenv import load_dotenv\n",
    "import nest_asyncio\n",
    "\n",
    "load_dotenv()\n",
    "\n",
    "# k = 5\n",
    "k = 20 # 10개는 파인튜닝, 나머지 10개는 validation set으로 사용\n",
    "\n",
    "client = AsyncOpenAI(\n",
    "    api_key=os.environ.get(\"OPENAI_API_KEY\")\n",
    ")\n",
    "\n",
    "with open(\"gpt_prompt.txt\", \"r\", encoding=\"utf-8\") as f:\n",
    "    instructions = f.read().replace(\"#K#\", str(k))\n",
    "\n",
    "nest_asyncio.apply() # jupyter notebook 자체적인 running event loop 가 존재하므로 실행 중 루프 (주피터 노트북) 내 중첩된 루프를 허용\n",
    "\n",
    "asyncio.run(generate_sentences_async(instructions, client, df, dir_path=\"../../dataset/preprocessing/gpt_output\")) # incidents.jsonl"
   ]
  },
  {
   "cell_type": "markdown",
   "id": "ee64cd3c",
   "metadata": {},
   "source": [
    "### 기존 쿼리 jsonl 파일 데이터 포맷 변경 (선택사항)  \n",
    "\n",
    "조항 구분 띄어쓰기 제거  "
   ]
  },
  {
   "cell_type": "code",
   "execution_count": null,
   "id": "121e88cf",
   "metadata": {},
   "outputs": [
    {
     "data": {
      "application/vnd.jupyter.widget-view+json": {
       "model_id": "c33a8416d23449bca749b6fa69d51c23",
       "version_major": 2,
       "version_minor": 0
      },
      "text/plain": [
       "Map:   0%|          | 0/762 [00:00<?, ? examples/s]"
      ]
     },
     "metadata": {},
     "output_type": "display_data"
    },
    {
     "data": {
      "application/vnd.jupyter.widget-view+json": {
       "model_id": "3aab375eec9c400e9bc8064011f0871a",
       "version_major": 2,
       "version_minor": 0
      },
      "text/plain": [
       "Creating json from Arrow format:   0%|          | 0/1 [00:00<?, ?ba/s]"
      ]
     },
     "metadata": {},
     "output_type": "display_data"
    },
    {
     "data": {
      "application/vnd.jupyter.widget-view+json": {
       "model_id": "51cb7aae184242febe10b8f9090cd063",
       "version_major": 2,
       "version_minor": 0
      },
      "text/plain": [
       "Map:   0%|          | 0/363 [00:00<?, ? examples/s]"
      ]
     },
     "metadata": {},
     "output_type": "display_data"
    },
    {
     "data": {
      "application/vnd.jupyter.widget-view+json": {
       "model_id": "16b2cb013e2041dc9b991eae750f1e91",
       "version_major": 2,
       "version_minor": 0
      },
      "text/plain": [
       "Creating json from Arrow format:   0%|          | 0/1 [00:00<?, ?ba/s]"
      ]
     },
     "metadata": {},
     "output_type": "display_data"
    }
   ],
   "source": [
    "from datasets import load_dataset\n",
    "import os\n",
    "import re\n",
    "\n",
    "\n",
    "def trans_format(fname: str, law_kind: str):\n",
    "    ds = load_dataset(\"json\", data_files=fname)[\"train\"]\n",
    "    new_ds = ds.map(\n",
    "        lambda x: {\n",
    "            \"id\": x[\"id\"],\n",
    "            \"title\": f\"{law_kind} {re.sub(r'(?<!^)(?=제)', ' ', x['query']['title'])}\",  # 띄어쓰기 제거\n",
    "            \"content\": x[\"query\"][\"content\"],\n",
    "        },\n",
    "    )\n",
    "    new_ds = new_ds.remove_columns([\"query\"])\n",
    "    new_fname = os.path.splitext(fname)[0] + \"_2\" + \".jsonl\"\n",
    "    new_ds.to_json(new_fname, force_ascii=False)\n",
    "\n",
    "\n",
    "trans_format(\"../../dataset/preprocessing/queries-edited.jsonl\", \"형법\")"
   ]
  }
 ],
 "metadata": {
  "kernelspec": {
   "display_name": "llm",
   "language": "python",
   "name": "python3"
  },
  "language_info": {
   "codemirror_mode": {
    "name": "ipython",
    "version": 3
   },
   "file_extension": ".py",
   "mimetype": "text/x-python",
   "name": "python",
   "nbconvert_exporter": "python",
   "pygments_lexer": "ipython3",
   "version": "3.10.19"
  }
 },
 "nbformat": 4,
 "nbformat_minor": 5
}
