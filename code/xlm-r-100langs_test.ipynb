{
 "cells": [
  {
   "cell_type": "markdown",
   "metadata": {},
   "source": [
    "### TEST : xlm-r-100langs-bert-base-nli-stsb-mean-tokens\n",
    "\n",
    "xlm - RoBERTa"
   ]
  },
  {
   "cell_type": "code",
   "execution_count": 2,
   "metadata": {},
   "outputs": [
    {
     "name": "stderr",
     "output_type": "stream",
     "text": [
      "d:\\anaconda3\\envs\\bert\\lib\\site-packages\\tqdm\\auto.py:21: TqdmWarning: IProgress not found. Please update jupyter and ipywidgets. See https://ipywidgets.readthedocs.io/en/stable/user_install.html\n",
      "  from .autonotebook import tqdm as notebook_tqdm\n"
     ]
    }
   ],
   "source": [
    "from sentence_transformers import SentenceTransformer, util\n",
    "import pandas as pd"
   ]
  },
  {
   "cell_type": "code",
   "execution_count": 1,
   "metadata": {},
   "outputs": [
    {
     "ename": "NameError",
     "evalue": "name 'pd' is not defined",
     "output_type": "error",
     "traceback": [
      "\u001b[1;31m---------------------------------------------------------------------------\u001b[0m",
      "\u001b[1;31mNameError\u001b[0m                                 Traceback (most recent call last)",
      "Cell \u001b[1;32mIn[1], line 22\u001b[0m\n\u001b[0;32m      1\u001b[0m \u001b[38;5;66;03m# # rows\u001b[39;00m\n\u001b[0;32m      2\u001b[0m \u001b[38;5;66;03m# sentences = [\u001b[39;00m\n\u001b[0;32m      3\u001b[0m \u001b[38;5;66;03m#     \"형사소송법 제420조 제1호의 ‘원판결의 증거가 된 서류가 위조된 것임이 증명된 때’에서 ‘위조’란 허위공문서작성을 포함하므로, 앞서 주장한 검사의 직무에 관한 죄 중 허위공문서작성죄 성립 부분은 위 재심사유에도 해당된다\", # 420조 제 1호\u001b[39;00m\n\u001b[1;32m   (...)\u001b[0m\n\u001b[0;32m     19\u001b[0m \u001b[38;5;66;03m#     ],\u001b[39;00m\n\u001b[0;32m     20\u001b[0m \u001b[38;5;66;03m# }\u001b[39;00m\n\u001b[1;32m---> 22\u001b[0m sentences \u001b[38;5;241m=\u001b[39m \u001b[43mpd\u001b[49m\u001b[38;5;241m.\u001b[39mread_excel(\u001b[38;5;124m'\u001b[39m\u001b[38;5;124mprecedent-example.xlsx\u001b[39m\u001b[38;5;124m'\u001b[39m)\n\u001b[0;32m     23\u001b[0m law \u001b[38;5;241m=\u001b[39m pd\u001b[38;5;241m.\u001b[39mread_excel(\u001b[38;5;124m'\u001b[39m\u001b[38;5;124mlaw.xlsx\u001b[39m\u001b[38;5;124m'\u001b[39m)\n\u001b[0;32m     25\u001b[0m article \u001b[38;5;241m=\u001b[39m \u001b[38;5;124m\"\u001b[39m\u001b[38;5;124m420\u001b[39m\u001b[38;5;124m\"\u001b[39m\n",
      "\u001b[1;31mNameError\u001b[0m: name 'pd' is not defined"
     ]
    }
   ],
   "source": [
    "# # rows\n",
    "# sentences = [\n",
    "#     \"형사소송법 제420조 제1호의 ‘원판결의 증거가 된 서류가 위조된 것임이 증명된 때’에서 ‘위조’란 허위공문서작성을 포함하므로, 앞서 주장한 검사의 직무에 관한 죄 중 허위공문서작성죄 성립 부분은 위 재심사유에도 해당된다\", # 420조 제 1호\n",
    "#     \"검찰수사 당시 피고인들의 조사에 참여한 공소외 5 수사관은 항소심법원에서 당시의 상황에 관하여 위증하였는데, 공소시효가 지나 확정판결을 얻을 수 없다\", # 420조 제 2호\n",
    "#     \"𝐏𝐥𝐚𝐲𝐥𝐢𝐬𝐭 틀어놓으면 1시간이 훌쩍 지나가는 감성 피아노 연주곡 플레이리스트\",\n",
    "# ]\n",
    "\n",
    "\n",
    "# # columns\n",
    "# laws = {\n",
    "#     \"420\": [\n",
    "#         \"원판결의 증거가 된 서류 또는 증거물이 확정판결에 의하여 위조되거나 변조된 것임이 증명된 때\",\n",
    "#         \"원판결의 증거가 된 증언, 감정, 통역 또는 번역이 확정판결에 의하여 허위임이 증명된 때\",\n",
    "#         \"무고(무고)로 인하여 유죄를 선고받은 경우에 그 무고의 죄가 확정판결에 의하여 증명된 때\",\n",
    "#         \"원판결의 증거가 된 재판이 확정재판에 의하여 변경된 때\",\n",
    "#         \"유죄를 선고받은 자에 대하여 무죄 또는 면소를, 형의 선고를 받은 자에 대하여 형의 면제 또는 원판결이 인정한 죄보다 가벼운 죄를 인정할 명백한 증거가 새로 발견된 때\",\n",
    "#         \"저작권, 특허권, 실용신안권, 디자인권 또는 상표권을 침해한 죄로 유죄의 선고를 받은 사건에 관하여 그 권리에 대한 무효의 심결 또는 무효의 판결이 확정된 때\",\n",
    "#         \"원판결, 전심판결 또는 그 판결의 기초가 된 조사에 관여한 법관, 공소의 제기 또는 그 공소의 기초가 된 수사에 관여한 검사나 사법경찰관이 그 직무에 관한 죄를 지은 것이 확정판결에 의하여 증명된 때. 다만, 원판결의 선고 전에 법관, 검사 또는 사법경찰관에 대하여 공소가 제기되었을 경우에는 원판결의 법원이 그 사유를 알지 못한 때로 한정한다.\",\n",
    "#     ],\n",
    "# }\n",
    "\n",
    "sentences = pd.read_excel('precedent-example.xlsx')\n",
    "law = pd.read_excel('law.xlsx')\n",
    "\n",
    "article = \"420\"\n",
    "\n",
    "table = [[] for _ in range(len(sentences))]\n",
    "\n",
    "model = SentenceTransformer(\n",
    "    \"sentence-transformers/xlm-r-100langs-bert-base-nli-stsb-mean-tokens\"\n",
    ")\n",
    "\n",
    "\n",
    "for r, sentence in enumerate(sentences):\n",
    "    s_embeddings = model.encode(sentence)\n",
    "    for c, paragraph in enumerate(law['content']):\n",
    "        p_embeddings = model.encode(paragraph)\n",
    "\n",
    "        cos_scores = util.pytorch_cos_sim(s_embeddings, p_embeddings)[0]\n",
    "        cos_scores = cos_scores.cpu()\n",
    "\n",
    "        table[r].append(cos_scores)\n",
    "\n",
    "df = pd.DataFrame(table, columns=[f\"{x}\" for x in range(len(law))])\n",
    "\n",
    "df"
   ]
  },
  {
   "cell_type": "code",
   "execution_count": null,
   "metadata": {},
   "outputs": [],
   "source": []
  }
 ],
 "metadata": {
  "kernelspec": {
   "display_name": "bert",
   "language": "python",
   "name": "python3"
  },
  "language_info": {
   "codemirror_mode": {
    "name": "ipython",
    "version": 3
   },
   "file_extension": ".py",
   "mimetype": "text/x-python",
   "name": "python",
   "nbconvert_exporter": "python",
   "pygments_lexer": "ipython3",
   "version": "3.10.16"
  }
 },
 "nbformat": 4,
 "nbformat_minor": 2
}
