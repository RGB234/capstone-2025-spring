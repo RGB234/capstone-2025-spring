{
 "cells": [
  {
   "cell_type": "markdown",
   "id": "63a4307a",
   "metadata": {},
   "source": [
    "파인튜닝 쉘 코드\n",
    "\n",
    "### BGE-M3 파인튜닝 : /model/bgem3/fine-tuning.sh  \n",
    "\n",
    "- 하이퍼 파라미터 입력 후 아래 링크의 쉘 코드를 실행  \n",
    "https://github.com/FlagOpen/FlagEmbedding/blob/master/Tutorials/7_Fine-tuning/7.1.2_Fine-tune.ipynb  \n",
    "\n",
    "\n",
    "### BGE-M3 커스텀 모델 파인튜닝 : /model/bgem3_custom/ft.sh  \n",
    "\n",
    "- FlagOpen/FlagEmbedding 패키지에서 커스텀 모델이 돌아가기 위한 부분들을 수정해서 /model/bgem3_custom/finetune 모듈 작성  \n",
    "- 작성한 모듈을 실행하여 파인튜닝 수행  \n"
   ]
  },
  {
   "cell_type": "markdown",
   "id": "1839d875",
   "metadata": {},
   "source": [
    "### 학습 데이터 문장 최대길이 (토큰 수) 확인"
   ]
  },
  {
   "cell_type": "code",
   "execution_count": 2,
   "id": "248f95e8",
   "metadata": {},
   "outputs": [
    {
     "data": {
      "application/vnd.jupyter.widget-view+json": {
       "model_id": "dedd4af3f7de4a22a7de0a57d374fc83",
       "version_major": 2,
       "version_minor": 0
      },
      "text/plain": [
       "Generating train split: 0 examples [00:00, ? examples/s]"
      ]
     },
     "metadata": {},
     "output_type": "display_data"
    },
    {
     "data": {
      "text/plain": [
       "Dataset({\n",
       "    features: ['id', 'title', 'query', 'pos', 'neg'],\n",
       "    num_rows: 363\n",
       "})"
      ]
     },
     "execution_count": 2,
     "metadata": {},
     "output_type": "execute_result"
    }
   ],
   "source": [
    "from datasets import load_dataset\n",
    "\n",
    "fpath = \"../data/relevant_incidents_train.jsonl\"\n",
    "\n",
    "ds = load_dataset(\"json\", data_files=\"../data/relevant_incidents_train_minedHN.jsonl\")['train']\n",
    "\n",
    "ds"
   ]
  },
  {
   "cell_type": "code",
   "execution_count": null,
   "id": "643cfd1a",
   "metadata": {},
   "outputs": [],
   "source": [
    "from FlagEmbedding import FlagModel\n",
    "\n",
    "model = FlagModel('BAAI/bge-m3', use_fp16=True)\n",
    "tokenizer = model.tokenizer\n",
    "\n",
    "query_max_len = 0\n",
    "passage_max_len = 0\n",
    "\n",
    "for data in ds:\n",
    "    query_max_len = max(query_max_len, len(tokenizer.tokenize(data['query'])))\n",
    "\n",
    "    for passage in data['pos'] + data['neg']:\n",
    "        passage_max_len = max(passage_max_len, len(tokenizer.tokenize(passage)))\n",
    "\n",
    "print(\"query_max_len\")\n",
    "print(query_max_len) # 136\n",
    "\n",
    "print(\"passage_max_len\")\n",
    "print(passage_max_len) # 54"
   ]
  }
 ],
 "metadata": {
  "kernelspec": {
   "display_name": "lm",
   "language": "python",
   "name": "python3"
  },
  "language_info": {
   "codemirror_mode": {
    "name": "ipython",
    "version": 3
   },
   "file_extension": ".py",
   "mimetype": "text/x-python",
   "name": "python",
   "nbconvert_exporter": "python",
   "pygments_lexer": "ipython3",
   "version": "3.12.7"
  }
 },
 "nbformat": 4,
 "nbformat_minor": 5
}
