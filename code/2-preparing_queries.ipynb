{
 "cells": [
  {
   "cell_type": "markdown",
   "id": "87a4b80c",
   "metadata": {},
   "source": [
    "## GPT 문장 생성으로 query-pos 튜닝 데이터셋 구축"
   ]
  },
  {
   "cell_type": "code",
   "execution_count": null,
   "id": "05ca99d9",
   "metadata": {},
   "outputs": [],
   "source": [
    "import pandas as pd\n",
    "\n",
    "df_base = pd.read_excel(\"../fetched_data/형법.xlsx\")\n",
    "\n",
    "df_base"
   ]
  },
  {
   "cell_type": "code",
   "execution_count": 3,
   "id": "3ae65fed",
   "metadata": {},
   "outputs": [],
   "source": [
    "import pandas as pd\n",
    "import json\n",
    "\n",
    "def df_to_jsonl(df : pd.DataFrame, path : str):\n",
    "    if not path.endswith(\".jsonl\"):\n",
    "        raise ValueError(\"a File name must ends with .jsonl\")\n",
    "\n",
    "    dataset = list()\n",
    "    frame = {\n",
    "        \"id\" : 0,\n",
    "        \"query\": {\n",
    "            \"id\": \"\",\n",
    "            \"part\": 0,\n",
    "            \"chapter\": 0,\n",
    "            \"content\": \"\",\n",
    "        },\n",
    "    }\n",
    "\n",
    "    ids = [i for i in range(len(dataset))]\n",
    "\n",
    "    for i, row in df.iterrows():\n",
    "        if row[\"content\"].strip().endswith(\"삭제\"):\n",
    "            continue\n",
    "        # 제x조(의a)y항z호\n",
    "        article = (\n",
    "            f\"제{row['article']}조\"\n",
    "            if row[\"article-branch\"] == 1\n",
    "            else f\"제{row['article']}조의{row['article-branch']}\"\n",
    "        )\n",
    "        paragraph = f\"제{row['paragraph']}항\" if row[\"paragraph\"] != 0 else \"\"\n",
    "        subparagraph = f\"제{row['subparagraph']}호\" if row[\"subparagraph\"] != 0 else \"\"\n",
    "\n",
    "        str_id = article + paragraph + subparagraph  # string\n",
    "        data = frame.copy()\n",
    "        data[\"query\"] = {\n",
    "            \"id\": str_id,\n",
    "            \"part\" : row['part'], # 편\n",
    "            \"chapter\": row[\"chapter\"], # 장\n",
    "            \"content\": row[\"content\"],\n",
    "        }\n",
    "        dataset.append(data)\n",
    "\n",
    "    for id, data in enumerate(dataset):\n",
    "        data['id'] = id\n",
    "\n",
    "    # JSONL 파일로 저장\n",
    "    with open(path, 'w', encoding='utf-8') as f:\n",
    "        for item in dataset:\n",
    "            json.dump(item, f, ensure_ascii=False)\n",
    "            f.write('\\n')"
   ]
  },
  {
   "cell_type": "markdown",
   "id": "b2fd9489",
   "metadata": {},
   "source": [
    "### 편/장 제목 (preamble == 1) 은 제외"
   ]
  },
  {
   "cell_type": "code",
   "execution_count": 4,
   "id": "a6aa9300",
   "metadata": {},
   "outputs": [],
   "source": [
    "df_base = pd.read_excel(\"../fetched_data/형법.xlsx\")\n",
    "\n",
    "df = df_base.loc[df_base['preamble'] == 0]\n",
    "\n",
    "df = df.drop('preamble', axis=1)\n",
    "\n",
    "df_to_jsonl(df, \"../data/ft_data_queries.jsonl\")"
   ]
  },
  {
   "cell_type": "markdown",
   "id": "1462d5db",
   "metadata": {},
   "source": [
    "### Synchronous API 요청  \n",
    "\n",
    "경험상 약 762개 행, pos 문장 3개씩 생성 -> 약 60분정도 소요  "
   ]
  },
  {
   "cell_type": "code",
   "execution_count": null,
   "id": "912072c9",
   "metadata": {},
   "outputs": [],
   "source": [
    "from openai import OpenAI\n",
    "from pydantic import BaseModel\n",
    "import pandas as pd\n",
    "import json\n",
    "import os\n",
    "import tqdm\n",
    "\n",
    "\n",
    "class Triplet(BaseModel):\n",
    "    query: str\n",
    "    pos: list[str]\n",
    "\n",
    "def dataset_to_df(dataset):\n",
    "    df = pd.DataFrame(dataset)\n",
    "\n",
    "    df['id'] = df['query'].apply(lambda x : x['id'])\n",
    "    df['content'] = df['query'].apply(lambda x : x['content'])\n",
    "\n",
    "    df.drop('query', axis=1, inplace=True)\n",
    "    \n",
    "    return df\n",
    "\n",
    "def generate_sentences(k : int, client, dataset: pd.DataFrame, dir_path: str):\n",
    "    print(f\"# total : {len(dataset)} #\")\n",
    "    path = os.path.join(dir_path, f\"relevant_incidents.jsonl\")\n",
    "    responses = []\n",
    "    with open(\"gpt_prompt.txt\", \"r\", encoding=\"utf-8\") as f:\n",
    "        instructions = f.read().replace(\"#K#\", str(k))\n",
    "\n",
    "    total = len(dataset)\n",
    "    for i, row in tqdm(dataset.iterrows(), total=total, desc=\"Generating\"):\n",
    "        prompt = f\"{row['id']} # {row['content']}\"\n",
    "\n",
    "        try:\n",
    "            res = client.responses.parse(\n",
    "                model=\"gpt-4o-mini\",\n",
    "                instructions=instructions,\n",
    "                input=[{\"role\": \"user\", \"content\": prompt}],\n",
    "                text_format=Triplet\n",
    "            )\n",
    "            responses.append(dict(res.output_parsed))\n",
    "\n",
    "        except Exception as e:\n",
    "            print(f\"Error processing row {i} ({row['id']}): {e}\")\n",
    "            continue  # 오류가 나면 그 행은 스킵하고 계속 진행\n",
    "\n",
    "    with open(path, 'w', encoding='utf-8') as f:\n",
    "        for res in responses:\n",
    "            json.dump(res, f, ensure_ascii=False)\n",
    "            f.write('\\n')"
   ]
  },
  {
   "cell_type": "code",
   "execution_count": null,
   "id": "b6daaecf",
   "metadata": {},
   "outputs": [],
   "source": [
    "from datasets import load_dataset\n",
    "\n",
    "dataset = load_dataset(\"json\", data_files=\"../data/ft_data_queries.jsonl\")['train']\n",
    "df = dataset_to_df(dataset)\n",
    "\n",
    "df"
   ]
  },
  {
   "cell_type": "code",
   "execution_count": null,
   "id": "d5f8a0fc",
   "metadata": {},
   "outputs": [],
   "source": [
    "from dotenv import load_dotenv\n",
    "\n",
    "load_dotenv()\n",
    "OPENAI_API_KEY = os.getenv(\"OPENAI_API_KEY\")\n",
    "client = OpenAI(OPENAI_API_KEY)\n",
    "generate_sentences(5, client, df, f\"../data/gpt_response\")"
   ]
  },
  {
   "cell_type": "markdown",
   "id": "e1c5a501",
   "metadata": {},
   "source": [
    "### Asynchronous API 요청"
   ]
  },
  {
   "cell_type": "code",
   "execution_count": null,
   "id": "b9396b8f",
   "metadata": {},
   "outputs": [],
   "source": [
    "from openai import AsyncOpenAI\n",
    "from pydantic import BaseModel\n",
    "import pandas as pd\n",
    "import json\n",
    "import os\n",
    "from tqdm.asyncio import tqdm_asyncio\n",
    "import asyncio\n",
    "\n",
    "class Triplet(BaseModel):\n",
    "    id : int\n",
    "    query: str\n",
    "    pos: list[str]\n",
    "\n",
    "def dataset_to_df(dataset):\n",
    "    df = pd.DataFrame(dataset)\n",
    "\n",
    "    df['id'] = [i for i in range(len(dataset))]\n",
    "    df['str_id'] = df['query'].apply(lambda x : x['id'])\n",
    "    df['content'] = df['query'].apply(lambda x : x['content'])\n",
    "\n",
    "    df.drop('query', axis=1, inplace=True)\n",
    "    \n",
    "    return df\n",
    "\n",
    "async def process_row_async(row, instructions, client):\n",
    "    id = row['id']\n",
    "    str_id = row['str_id']\n",
    "    query = row['content']\n",
    "    prompt = f\"{id} # {str_id} # {query}\"\n",
    "\n",
    "    try:\n",
    "        response = await client.responses.parse(\n",
    "            model='gpt-4.1',\n",
    "            instructions=instructions,\n",
    "            input=[{\"role\": \"user\", \"content\": prompt}],\n",
    "            text_format=Triplet,\n",
    "        )\n",
    "        return dict(response.output_parsed)\n",
    "    except Exception as e:\n",
    "        print(f\"Error in row {str_id} : {e}\")\n",
    "        return {'id': id ,'query': query, 'pos': []}\n",
    "    \n",
    "async def generate_sentences_async(instrctions, client, dataset : pd.DataFrame, dir_path: str, concurrency: int = 8):\n",
    "    sem = asyncio.Semaphore(concurrency) # API 동시 요청 수 제한\n",
    "\n",
    "    async def sem_task(row):\n",
    "        async with sem:\n",
    "            return await process_row_async(row, instrctions, client)\n",
    "        \n",
    "    tasks = [sem_task(row) for _, row in dataset.iterrows()]\n",
    "    results = []\n",
    "\n",
    "    for coro in tqdm_asyncio.as_completed(tasks, total=len(tasks), desc=\"Processing\"):\n",
    "        result = await coro\n",
    "        if result:\n",
    "            results.append(result)\n",
    "\n",
    "    os.makedirs(dir_path, exist_ok=True)\n",
    "    path = os.path.join(dir_path, \"relevant_incidents.jsonl\")\n",
    "\n",
    "    # 비동기 처리 결과값들 원래 쿼리 데이터 순서대로 정렬\n",
    "    sorted_results = sorted(results, key=lambda x : x['id'])\n",
    "\n",
    "    with open(path, 'w', encoding='utf-8') as f:\n",
    "        for res in sorted_results:\n",
    "            json.dump(res, f, ensure_ascii=False)\n",
    "            f.write('\\n')"
   ]
  },
  {
   "cell_type": "code",
   "execution_count": 3,
   "id": "0bffafa1",
   "metadata": {},
   "outputs": [
    {
     "data": {
      "text/html": [
       "<div>\n",
       "<style scoped>\n",
       "    .dataframe tbody tr th:only-of-type {\n",
       "        vertical-align: middle;\n",
       "    }\n",
       "\n",
       "    .dataframe tbody tr th {\n",
       "        vertical-align: top;\n",
       "    }\n",
       "\n",
       "    .dataframe thead th {\n",
       "        text-align: right;\n",
       "    }\n",
       "</style>\n",
       "<table border=\"1\" class=\"dataframe\">\n",
       "  <thead>\n",
       "    <tr style=\"text-align: right;\">\n",
       "      <th></th>\n",
       "      <th>id</th>\n",
       "      <th>str_id</th>\n",
       "      <th>content</th>\n",
       "    </tr>\n",
       "  </thead>\n",
       "  <tbody>\n",
       "    <tr>\n",
       "      <th>0</th>\n",
       "      <td>0</td>\n",
       "      <td>제1조</td>\n",
       "      <td>제1조(범죄의 성립과 처벌)</td>\n",
       "    </tr>\n",
       "    <tr>\n",
       "      <th>1</th>\n",
       "      <td>1</td>\n",
       "      <td>제1조제1항</td>\n",
       "      <td>범죄의 성립과 처벌은 행위 시의 법률에 따른다</td>\n",
       "    </tr>\n",
       "    <tr>\n",
       "      <th>2</th>\n",
       "      <td>2</td>\n",
       "      <td>제1조제2항</td>\n",
       "      <td>범죄 후 법률이 변경되어 그 행위가 범죄를 구성하지 아니하게 되거나 형이 구법(舊法...</td>\n",
       "    </tr>\n",
       "    <tr>\n",
       "      <th>3</th>\n",
       "      <td>3</td>\n",
       "      <td>제1조제3항</td>\n",
       "      <td>재판이 확정된 후 법률이 변경되어 그 행위가 범죄를 구성하지 아니하게 된 경우에는 ...</td>\n",
       "    </tr>\n",
       "    <tr>\n",
       "      <th>4</th>\n",
       "      <td>4</td>\n",
       "      <td>제2조</td>\n",
       "      <td>제2조(국내범) 본법은 대한민국영역내에서 죄를 범한 내국인과 외국인에게 적용한다</td>\n",
       "    </tr>\n",
       "    <tr>\n",
       "      <th>5</th>\n",
       "      <td>5</td>\n",
       "      <td>제3조</td>\n",
       "      <td>제3조(내국인의 국외범) 본법은 대한민국영역외에서 죄를 범한 내국인에게 적용한다</td>\n",
       "    </tr>\n",
       "    <tr>\n",
       "      <th>6</th>\n",
       "      <td>6</td>\n",
       "      <td>제4조</td>\n",
       "      <td>제4조(국외에 있는 내국선박 등에서 외국인이 범한 죄) 본법은 대한민국영역외에 있는...</td>\n",
       "    </tr>\n",
       "    <tr>\n",
       "      <th>7</th>\n",
       "      <td>7</td>\n",
       "      <td>제5조</td>\n",
       "      <td>제5조(외국인의 국외범) 본법은 대한민국영역외에서 다음에 기재한 죄를 범한 외국인에...</td>\n",
       "    </tr>\n",
       "    <tr>\n",
       "      <th>8</th>\n",
       "      <td>8</td>\n",
       "      <td>제5조제1호</td>\n",
       "      <td>내란의 죄</td>\n",
       "    </tr>\n",
       "    <tr>\n",
       "      <th>9</th>\n",
       "      <td>9</td>\n",
       "      <td>제5조제2호</td>\n",
       "      <td>외환의 죄</td>\n",
       "    </tr>\n",
       "    <tr>\n",
       "      <th>10</th>\n",
       "      <td>10</td>\n",
       "      <td>제5조제3호</td>\n",
       "      <td>국기에 관한 죄</td>\n",
       "    </tr>\n",
       "    <tr>\n",
       "      <th>11</th>\n",
       "      <td>11</td>\n",
       "      <td>제5조제4호</td>\n",
       "      <td>통화에 관한 죄</td>\n",
       "    </tr>\n",
       "    <tr>\n",
       "      <th>12</th>\n",
       "      <td>12</td>\n",
       "      <td>제5조제5호</td>\n",
       "      <td>유가증권 우표와 인지에 관한 죄</td>\n",
       "    </tr>\n",
       "    <tr>\n",
       "      <th>13</th>\n",
       "      <td>13</td>\n",
       "      <td>제5조제6호</td>\n",
       "      <td>문서에 관한 죄중 제225조 내지 제230조</td>\n",
       "    </tr>\n",
       "    <tr>\n",
       "      <th>14</th>\n",
       "      <td>14</td>\n",
       "      <td>제5조제7호</td>\n",
       "      <td>인장에 관한 죄중 제238조</td>\n",
       "    </tr>\n",
       "    <tr>\n",
       "      <th>15</th>\n",
       "      <td>15</td>\n",
       "      <td>제6조</td>\n",
       "      <td>제6조(대한민국과 대한민국국민에 대한 국외범) 본법은 대한민국영역외에서 대한민국 또...</td>\n",
       "    </tr>\n",
       "    <tr>\n",
       "      <th>16</th>\n",
       "      <td>16</td>\n",
       "      <td>제7조</td>\n",
       "      <td>제7조(외국에서 집행된 형의 산입) 죄를 지어 외국에서 형의 전부 또는 일부가 집행...</td>\n",
       "    </tr>\n",
       "    <tr>\n",
       "      <th>17</th>\n",
       "      <td>17</td>\n",
       "      <td>제8조</td>\n",
       "      <td>제8조(총칙의 적용) 본법 총칙은 타법령에 정한 죄에 적용한다. 단 그 법령에 특별...</td>\n",
       "    </tr>\n",
       "    <tr>\n",
       "      <th>18</th>\n",
       "      <td>18</td>\n",
       "      <td>제9조</td>\n",
       "      <td>제9조(형사미성년자) 14세되지 아니한 자의 행위는 벌하지 아니한다</td>\n",
       "    </tr>\n",
       "    <tr>\n",
       "      <th>19</th>\n",
       "      <td>19</td>\n",
       "      <td>제10조</td>\n",
       "      <td>제10조(심신장애인)</td>\n",
       "    </tr>\n",
       "    <tr>\n",
       "      <th>20</th>\n",
       "      <td>20</td>\n",
       "      <td>제10조제1항</td>\n",
       "      <td>심신장애로 인하여 사물을 변별할 능력이 없거나 의사를 결정할 능력이 없는 자의 행위...</td>\n",
       "    </tr>\n",
       "    <tr>\n",
       "      <th>21</th>\n",
       "      <td>21</td>\n",
       "      <td>제10조제2항</td>\n",
       "      <td>심신장애로 인하여 전항의 능력이 미약한 자의 행위는 형을 감경할 수 있다</td>\n",
       "    </tr>\n",
       "    <tr>\n",
       "      <th>22</th>\n",
       "      <td>22</td>\n",
       "      <td>제10조제3항</td>\n",
       "      <td>위험의 발생을 예견하고 자의로 심신장애를 야기한 자의 행위에는 전2항의 규정을 적용...</td>\n",
       "    </tr>\n",
       "    <tr>\n",
       "      <th>23</th>\n",
       "      <td>23</td>\n",
       "      <td>제11조</td>\n",
       "      <td>제11조(청각 및 언어 장애인) 듣거나 말하는 데 모두 장애가 있는 사람의 행위에 ...</td>\n",
       "    </tr>\n",
       "    <tr>\n",
       "      <th>24</th>\n",
       "      <td>24</td>\n",
       "      <td>제12조</td>\n",
       "      <td>제12조(강요된 행위) 저항할 수 없는 폭력이나 자기 또는 친족의 생명 신체에 대한...</td>\n",
       "    </tr>\n",
       "    <tr>\n",
       "      <th>25</th>\n",
       "      <td>25</td>\n",
       "      <td>제13조</td>\n",
       "      <td>제13조(고의) 죄의 성립요소인 사실을 인식하지 못한 행위는 벌하지 아니한다. 다만...</td>\n",
       "    </tr>\n",
       "    <tr>\n",
       "      <th>26</th>\n",
       "      <td>26</td>\n",
       "      <td>제14조</td>\n",
       "      <td>제14조(과실) 정상적으로 기울여야 할 주의(注意)를 게을리하여 죄의 성립요소인 사...</td>\n",
       "    </tr>\n",
       "    <tr>\n",
       "      <th>27</th>\n",
       "      <td>27</td>\n",
       "      <td>제15조</td>\n",
       "      <td>제15조(사실의 착오)</td>\n",
       "    </tr>\n",
       "    <tr>\n",
       "      <th>28</th>\n",
       "      <td>28</td>\n",
       "      <td>제15조제1항</td>\n",
       "      <td>특별히 무거운 죄가 되는 사실을 인식하지 못한 행위는 무거운 죄로 벌하지 아니한다</td>\n",
       "    </tr>\n",
       "    <tr>\n",
       "      <th>29</th>\n",
       "      <td>29</td>\n",
       "      <td>제15조제2항</td>\n",
       "      <td>결과 때문에 형이 무거워지는 죄의 경우에 그 결과의 발생을 예견할 수 없었을 때에는...</td>\n",
       "    </tr>\n",
       "  </tbody>\n",
       "</table>\n",
       "</div>"
      ],
      "text/plain": [
       "    id   str_id                                            content\n",
       "0    0      제1조                                    제1조(범죄의 성립과 처벌)\n",
       "1    1   제1조제1항                          범죄의 성립과 처벌은 행위 시의 법률에 따른다\n",
       "2    2   제1조제2항  범죄 후 법률이 변경되어 그 행위가 범죄를 구성하지 아니하게 되거나 형이 구법(舊法...\n",
       "3    3   제1조제3항  재판이 확정된 후 법률이 변경되어 그 행위가 범죄를 구성하지 아니하게 된 경우에는 ...\n",
       "4    4      제2조       제2조(국내범) 본법은 대한민국영역내에서 죄를 범한 내국인과 외국인에게 적용한다\n",
       "5    5      제3조       제3조(내국인의 국외범) 본법은 대한민국영역외에서 죄를 범한 내국인에게 적용한다\n",
       "6    6      제4조  제4조(국외에 있는 내국선박 등에서 외국인이 범한 죄) 본법은 대한민국영역외에 있는...\n",
       "7    7      제5조  제5조(외국인의 국외범) 본법은 대한민국영역외에서 다음에 기재한 죄를 범한 외국인에...\n",
       "8    8   제5조제1호                                              내란의 죄\n",
       "9    9   제5조제2호                                              외환의 죄\n",
       "10  10   제5조제3호                                           국기에 관한 죄\n",
       "11  11   제5조제4호                                           통화에 관한 죄\n",
       "12  12   제5조제5호                                  유가증권 우표와 인지에 관한 죄\n",
       "13  13   제5조제6호                           문서에 관한 죄중 제225조 내지 제230조\n",
       "14  14   제5조제7호                                    인장에 관한 죄중 제238조\n",
       "15  15      제6조  제6조(대한민국과 대한민국국민에 대한 국외범) 본법은 대한민국영역외에서 대한민국 또...\n",
       "16  16      제7조  제7조(외국에서 집행된 형의 산입) 죄를 지어 외국에서 형의 전부 또는 일부가 집행...\n",
       "17  17      제8조  제8조(총칙의 적용) 본법 총칙은 타법령에 정한 죄에 적용한다. 단 그 법령에 특별...\n",
       "18  18      제9조              제9조(형사미성년자) 14세되지 아니한 자의 행위는 벌하지 아니한다\n",
       "19  19     제10조                                        제10조(심신장애인)\n",
       "20  20  제10조제1항  심신장애로 인하여 사물을 변별할 능력이 없거나 의사를 결정할 능력이 없는 자의 행위...\n",
       "21  21  제10조제2항           심신장애로 인하여 전항의 능력이 미약한 자의 행위는 형을 감경할 수 있다\n",
       "22  22  제10조제3항  위험의 발생을 예견하고 자의로 심신장애를 야기한 자의 행위에는 전2항의 규정을 적용...\n",
       "23  23     제11조  제11조(청각 및 언어 장애인) 듣거나 말하는 데 모두 장애가 있는 사람의 행위에 ...\n",
       "24  24     제12조  제12조(강요된 행위) 저항할 수 없는 폭력이나 자기 또는 친족의 생명 신체에 대한...\n",
       "25  25     제13조  제13조(고의) 죄의 성립요소인 사실을 인식하지 못한 행위는 벌하지 아니한다. 다만...\n",
       "26  26     제14조  제14조(과실) 정상적으로 기울여야 할 주의(注意)를 게을리하여 죄의 성립요소인 사...\n",
       "27  27     제15조                                       제15조(사실의 착오)\n",
       "28  28  제15조제1항      특별히 무거운 죄가 되는 사실을 인식하지 못한 행위는 무거운 죄로 벌하지 아니한다\n",
       "29  29  제15조제2항  결과 때문에 형이 무거워지는 죄의 경우에 그 결과의 발생을 예견할 수 없었을 때에는..."
      ]
     },
     "execution_count": 3,
     "metadata": {},
     "output_type": "execute_result"
    }
   ],
   "source": [
    "from datasets import load_dataset\n",
    "import nest_asyncio\n",
    "import asyncio\n",
    "\n",
    "client = AsyncOpenAI(\n",
    "    api_key=os.environ.get(\"OPENAI_API_KEY\")\n",
    ")\n",
    "\n",
    "dataset = load_dataset(\"json\", data_files=\"../data/ft_data_queries.jsonl\")['train']\n",
    "ds_df = dataset_to_df(dataset)\n",
    "\n",
    "ds_df[:30]"
   ]
  },
  {
   "cell_type": "code",
   "execution_count": null,
   "id": "259f7699",
   "metadata": {},
   "outputs": [
    {
     "name": "stderr",
     "output_type": "stream",
     "text": [
      "Processing:  22%|██▏       | 168/762 [02:33<09:28,  1.04it/s]"
     ]
    },
    {
     "name": "stdout",
     "output_type": "stream",
     "text": [
      "Error in row 제34조제2항 : Error code: 429 - {'error': {'message': 'Rate limit reached for gpt-4.1 in organization org-X48ePMthynVyuEEzpcHElsgZ on tokens per min (TPM): Limit 30000, Used 29871, Requested 376. Please try again in 494ms. Visit https://platform.openai.com/account/rate-limits to learn more.', 'type': 'tokens', 'param': None, 'code': 'rate_limit_exceeded'}}\n"
     ]
    },
    {
     "name": "stderr",
     "output_type": "stream",
     "text": [
      "Processing:  23%|██▎       | 176/762 [02:39<05:55,  1.65it/s]"
     ]
    },
    {
     "name": "stdout",
     "output_type": "stream",
     "text": [
      "Error in row 제1조제3항 : Error code: 429 - {'error': {'message': 'Rate limit reached for gpt-4.1 in organization org-X48ePMthynVyuEEzpcHElsgZ on tokens per min (TPM): Limit 30000, Used 29932, Requested 342. Please try again in 548ms. Visit https://platform.openai.com/account/rate-limits to learn more.', 'type': 'tokens', 'param': None, 'code': 'rate_limit_exceeded'}}\n"
     ]
    },
    {
     "name": "stderr",
     "output_type": "stream",
     "text": [
      "Processing:  31%|███       | 238/762 [03:54<06:40,  1.31it/s]"
     ]
    },
    {
     "name": "stdout",
     "output_type": "stream",
     "text": [
      "Error in row 제38조제2항 : Error code: 429 - {'error': {'message': 'Rate limit reached for gpt-4.1 in organization org-X48ePMthynVyuEEzpcHElsgZ on tokens per min (TPM): Limit 30000, Used 29692, Requested 338. Please try again in 60ms. Visit https://platform.openai.com/account/rate-limits to learn more.', 'type': 'tokens', 'param': None, 'code': 'rate_limit_exceeded'}}\n"
     ]
    },
    {
     "name": "stderr",
     "output_type": "stream",
     "text": [
      "Processing:  41%|████      | 314/762 [05:29<06:31,  1.14it/s]"
     ]
    },
    {
     "name": "stdout",
     "output_type": "stream",
     "text": [
      "Error in row 제13조 : Error code: 429 - {'error': {'message': 'Rate limit reached for gpt-4.1 in organization org-X48ePMthynVyuEEzpcHElsgZ on tokens per min (TPM): Limit 30000, Used 30000, Requested 352. Please try again in 704ms. Visit https://platform.openai.com/account/rate-limits to learn more.', 'type': 'tokens', 'param': None, 'code': 'rate_limit_exceeded'}}\n"
     ]
    },
    {
     "name": "stderr",
     "output_type": "stream",
     "text": [
      "Processing:  43%|████▎     | 324/762 [05:41<05:31,  1.32it/s]"
     ]
    },
    {
     "name": "stdout",
     "output_type": "stream",
     "text": [
      "Error in row 제350조제1항 : Error code: 429 - {'error': {'message': 'Rate limit reached for gpt-4.1 in organization org-X48ePMthynVyuEEzpcHElsgZ on tokens per min (TPM): Limit 30000, Used 29990, Requested 352. Please try again in 684ms. Visit https://platform.openai.com/account/rate-limits to learn more.', 'type': 'tokens', 'param': None, 'code': 'rate_limit_exceeded'}}\n"
     ]
    },
    {
     "name": "stderr",
     "output_type": "stream",
     "text": [
      "Processing:  50%|████▉     | 379/762 [06:47<03:49,  1.67it/s]"
     ]
    },
    {
     "name": "stdout",
     "output_type": "stream",
     "text": [
      "Error in row 제119조제3항 : Error code: 429 - {'error': {'message': 'Rate limit reached for gpt-4.1 in organization org-X48ePMthynVyuEEzpcHElsgZ on tokens per min (TPM): Limit 30000, Used 29800, Requested 323. Please try again in 246ms. Visit https://platform.openai.com/account/rate-limits to learn more.', 'type': 'tokens', 'param': None, 'code': 'rate_limit_exceeded'}}\n"
     ]
    },
    {
     "name": "stderr",
     "output_type": "stream",
     "text": [
      "Processing:  53%|█████▎    | 401/762 [07:16<06:28,  1.08s/it]"
     ]
    },
    {
     "name": "stdout",
     "output_type": "stream",
     "text": [
      "Error in row 제291조 : Error code: 429 - {'error': {'message': 'Rate limit reached for gpt-4.1 in organization org-X48ePMthynVyuEEzpcHElsgZ on tokens per min (TPM): Limit 30000, Used 29748, Requested 324. Please try again in 144ms. Visit https://platform.openai.com/account/rate-limits to learn more.', 'type': 'tokens', 'param': None, 'code': 'rate_limit_exceeded'}}\n"
     ]
    },
    {
     "name": "stderr",
     "output_type": "stream",
     "text": [
      "Processing:  55%|█████▍    | 419/762 [07:39<07:11,  1.26s/it]"
     ]
    },
    {
     "name": "stdout",
     "output_type": "stream",
     "text": [
      "Error in row 제156조 : Error code: 429 - {'error': {'message': 'Rate limit reached for gpt-4.1 in organization org-X48ePMthynVyuEEzpcHElsgZ on tokens per min (TPM): Limit 30000, Used 29843, Requested 374. Please try again in 434ms. Visit https://platform.openai.com/account/rate-limits to learn more.', 'type': 'tokens', 'param': None, 'code': 'rate_limit_exceeded'}}\n"
     ]
    },
    {
     "name": "stderr",
     "output_type": "stream",
     "text": [
      "Processing:  60%|█████▉    | 455/762 [08:21<06:12,  1.21s/it]"
     ]
    },
    {
     "name": "stdout",
     "output_type": "stream",
     "text": [
      "Error in row 제268조 : Error code: 429 - {'error': {'message': 'Rate limit reached for gpt-4.1 in organization org-X48ePMthynVyuEEzpcHElsgZ on tokens per min (TPM): Limit 30000, Used 29697, Requested 364. Please try again in 121ms. Visit https://platform.openai.com/account/rate-limits to learn more.', 'type': 'tokens', 'param': None, 'code': 'rate_limit_exceeded'}}\n"
     ]
    },
    {
     "name": "stderr",
     "output_type": "stream",
     "text": [
      "Processing:  61%|██████    | 466/762 [08:33<04:23,  1.12it/s]"
     ]
    },
    {
     "name": "stdout",
     "output_type": "stream",
     "text": [
      "Error in row 제296조 : Error code: 429 - {'error': {'message': 'Rate limit reached for gpt-4.1 in organization org-X48ePMthynVyuEEzpcHElsgZ on tokens per min (TPM): Limit 30000, Used 29816, Requested 368. Please try again in 368ms. Visit https://platform.openai.com/account/rate-limits to learn more.', 'type': 'tokens', 'param': None, 'code': 'rate_limit_exceeded'}}\n"
     ]
    },
    {
     "name": "stderr",
     "output_type": "stream",
     "text": [
      "Processing:  63%|██████▎   | 477/762 [08:47<08:41,  1.83s/it]"
     ]
    },
    {
     "name": "stdout",
     "output_type": "stream",
     "text": [
      "Error in row 제129조 : Error code: 429 - {'error': {'message': 'Rate limit reached for gpt-4.1 in organization org-X48ePMthynVyuEEzpcHElsgZ on tokens per min (TPM): Limit 30000, Used 29924, Requested 316. Please try again in 480ms. Visit https://platform.openai.com/account/rate-limits to learn more.', 'type': 'tokens', 'param': None, 'code': 'rate_limit_exceeded'}}\n"
     ]
    },
    {
     "name": "stderr",
     "output_type": "stream",
     "text": [
      "Processing:  70%|██████▉   | 530/762 [09:51<04:11,  1.08s/it]"
     ]
    },
    {
     "name": "stdout",
     "output_type": "stream",
     "text": [
      "Error in row 제131조제4항 : Error code: 429 - {'error': {'message': 'Rate limit reached for gpt-4.1 in organization org-X48ePMthynVyuEEzpcHElsgZ on tokens per min (TPM): Limit 30000, Used 29695, Requested 328. Please try again in 46ms. Visit https://platform.openai.com/account/rate-limits to learn more.', 'type': 'tokens', 'param': None, 'code': 'rate_limit_exceeded'}}\n"
     ]
    },
    {
     "name": "stderr",
     "output_type": "stream",
     "text": [
      "Processing:  82%|████████▏ | 624/762 [11:51<02:43,  1.18s/it]"
     ]
    },
    {
     "name": "stdout",
     "output_type": "stream",
     "text": [
      "Error in row 제108조제2항 : Error code: 429 - {'error': {'message': 'Rate limit reached for gpt-4.1 in organization org-X48ePMthynVyuEEzpcHElsgZ on tokens per min (TPM): Limit 30000, Used 30000, Requested 346. Please try again in 692ms. Visit https://platform.openai.com/account/rate-limits to learn more.', 'type': 'tokens', 'param': None, 'code': 'rate_limit_exceeded'}}\n"
     ]
    },
    {
     "name": "stderr",
     "output_type": "stream",
     "text": [
      "Processing:  86%|████████▌ | 657/762 [12:30<02:04,  1.19s/it]"
     ]
    },
    {
     "name": "stdout",
     "output_type": "stream",
     "text": [
      "Error in row 제173조제1항 : Error code: 429 - {'error': {'message': 'Rate limit reached for gpt-4.1 in organization org-X48ePMthynVyuEEzpcHElsgZ on tokens per min (TPM): Limit 30000, Used 29954, Requested 365. Please try again in 638ms. Visit https://platform.openai.com/account/rate-limits to learn more.', 'type': 'tokens', 'param': None, 'code': 'rate_limit_exceeded'}}\n"
     ]
    },
    {
     "name": "stderr",
     "output_type": "stream",
     "text": [
      "Processing:  88%|████████▊ | 667/762 [12:40<01:43,  1.09s/it]"
     ]
    },
    {
     "name": "stdout",
     "output_type": "stream",
     "text": [
      "Error in row 제112조 : Error code: 429 - {'error': {'message': 'Rate limit reached for gpt-4.1 in organization org-X48ePMthynVyuEEzpcHElsgZ on tokens per min (TPM): Limit 30000, Used 29661, Requested 353. Please try again in 28ms. Visit https://platform.openai.com/account/rate-limits to learn more.', 'type': 'tokens', 'param': None, 'code': 'rate_limit_exceeded'}}\n"
     ]
    },
    {
     "name": "stderr",
     "output_type": "stream",
     "text": [
      "Processing:  90%|████████▉ | 682/762 [12:58<01:26,  1.08s/it]"
     ]
    },
    {
     "name": "stdout",
     "output_type": "stream",
     "text": [
      "Error in row 제173조의2제1항 : Error code: 429 - {'error': {'message': 'Rate limit reached for gpt-4.1 in organization org-X48ePMthynVyuEEzpcHElsgZ on tokens per min (TPM): Limit 30000, Used 29656, Requested 365. Please try again in 42ms. Visit https://platform.openai.com/account/rate-limits to learn more.', 'type': 'tokens', 'param': None, 'code': 'rate_limit_exceeded'}}\n"
     ]
    },
    {
     "name": "stderr",
     "output_type": "stream",
     "text": [
      "Processing:  97%|█████████▋| 738/762 [14:08<00:36,  1.51s/it]"
     ]
    },
    {
     "name": "stdout",
     "output_type": "stream",
     "text": [
      "Error in row 제85조 : Error code: 429 - {'error': {'message': 'Rate limit reached for gpt-4.1 in organization org-X48ePMthynVyuEEzpcHElsgZ on tokens per min (TPM): Limit 30000, Used 29921, Requested 345. Please try again in 532ms. Visit https://platform.openai.com/account/rate-limits to learn more.', 'type': 'tokens', 'param': None, 'code': 'rate_limit_exceeded'}}\n"
     ]
    },
    {
     "name": "stderr",
     "output_type": "stream",
     "text": [
      "Processing:  99%|█████████▉| 758/762 [14:27<00:02,  1.81it/s]"
     ]
    },
    {
     "name": "stdout",
     "output_type": "stream",
     "text": [
      "Error in row 제288조제3항 : Error code: 429 - {'error': {'message': 'Rate limit reached for gpt-4.1 in organization org-X48ePMthynVyuEEzpcHElsgZ on tokens per min (TPM): Limit 30000, Used 29812, Requested 351. Please try again in 326ms. Visit https://platform.openai.com/account/rate-limits to learn more.', 'type': 'tokens', 'param': None, 'code': 'rate_limit_exceeded'}}\n"
     ]
    },
    {
     "name": "stderr",
     "output_type": "stream",
     "text": [
      "Processing: 100%|██████████| 762/762 [14:38<00:00,  1.15s/it]\n"
     ]
    }
   ],
   "source": [
    "# gpt-4o-mini 약 6분 소요, 0.14 $\n",
    "# gpt-4.1 약 15분, 2 $\n",
    "\n",
    "k = 5\n",
    "with open(\"gpt_prompt.txt\", \"r\", encoding=\"utf-8\") as f:\n",
    "    instructions = f.read().replace(\"#K#\", str(k))\n",
    "\n",
    "nest_asyncio.apply() # jupyter notebook 자체적인 running event loop 가 존재하므로 실행 중 루프 (주피터 노트북) 내 중첩된 루프를 허용\n",
    "\n",
    "asyncio.run(generate_sentences_async(instructions, client, ds_df, dir_path=\"../data/gpt_output\"))"
   ]
  },
  {
   "cell_type": "code",
   "execution_count": null,
   "id": "298bbca3",
   "metadata": {},
   "outputs": [],
   "source": []
  }
 ],
 "metadata": {
  "kernelspec": {
   "display_name": "lm",
   "language": "python",
   "name": "python3"
  },
  "language_info": {
   "codemirror_mode": {
    "name": "ipython",
    "version": 3
   },
   "file_extension": ".py",
   "mimetype": "text/x-python",
   "name": "python",
   "nbconvert_exporter": "python",
   "pygments_lexer": "ipython3",
   "version": "3.12.7"
  }
 },
 "nbformat": 4,
 "nbformat_minor": 5
}
