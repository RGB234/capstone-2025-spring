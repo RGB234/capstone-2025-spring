{
 "cells": [
  {
   "cell_type": "markdown",
   "id": "63a4307a",
   "metadata": {},
   "source": [
    "fine-tuning.sh"
   ]
  },
  {
   "cell_type": "code",
   "execution_count": null,
   "id": "d7d2f65a",
   "metadata": {
    "vscode": {
     "languageId": "shellscript"
    }
   },
   "outputs": [],
   "source": [
    "#!/usr/bin/bash\n",
    "#SBATCH -J bge-m3\n",
    "#SBATCH --gres=gpu:1\n",
    "#SBATCH --cpus-per-gpu=8\n",
    "#SBATCH --mem-per-gpu=32G\n",
    "#SBATCH -w aurora-g3\n",
    "#SBATCH -p batch_ugrad\n",
    "#SBATCH -t 1-0\n",
    "#SBATCH -o logs/slurm-%A.out\n",
    "\n",
    "pwd\n",
    "\n",
    "torchrun --nproc_per_node 1 \\\n",
    "-m FlagEmbedding.finetune.embedder.encoder_only.base \\\n",
    "    --model_name_or_path BAAI/bge-m3 \\\n",
    "    --cache_dir /data2/local_datasets/bge-m3/cache/model \\\n",
    "    --cache_path /data2/local_datasets/bge-m3/cache/data \\\n",
    "    --train_data /data2/local_datasets/bge-m3/data/ft_data_minedHN.jsonl \\\n",
    "    --output_dir /data2/local_datasets/bge-m3/ft_model \\\n",
    "    --learning_rate 1e-5 \\\n",
    "    --fp16 \\\n",
    "    --pad_to_multiple_of 8 \\\n",
    "    --num_train_epochs 5 \\\n",
    "    --per_device_train_batch_size 1 \\\n",
    "    --dataloader_drop_last True \\\n",
    "    --normalize_embeddings True \\\n",
    "    --temperature 0.02 \\\n",
    "    --query_max_len 256 \\\n",
    "    --passage_max_len 256 \\\n",
    "    --train_group_size 2 \\\n",
    "    --negatives_cross_device \\\n",
    "    --logging_steps 10 \\\n",
    "    --save_steps 1000 \\\n",
    "    --query_instruction_for_retrieval \"\"\n",
    "\n",
    "destroy_process_group()\n",
    "\n",
    "exit 0"
   ]
  },
  {
   "cell_type": "code",
   "execution_count": 2,
   "id": "248f95e8",
   "metadata": {},
   "outputs": [
    {
     "data": {
      "application/vnd.jupyter.widget-view+json": {
       "model_id": "dedd4af3f7de4a22a7de0a57d374fc83",
       "version_major": 2,
       "version_minor": 0
      },
      "text/plain": [
       "Generating train split: 0 examples [00:00, ? examples/s]"
      ]
     },
     "metadata": {},
     "output_type": "display_data"
    },
    {
     "data": {
      "text/plain": [
       "Dataset({\n",
       "    features: ['id', 'title', 'query', 'pos', 'neg'],\n",
       "    num_rows: 363\n",
       "})"
      ]
     },
     "execution_count": 2,
     "metadata": {},
     "output_type": "execute_result"
    }
   ],
   "source": [
    "from datasets import load_dataset\n",
    "\n",
    "fpath = \"../data/relevant_incidents_train.jsonl\"\n",
    "\n",
    "ds = load_dataset(\"json\", data_files=\"../data/relevant_incidents_train_minedHN.jsonl\")['train']\n",
    "\n",
    "ds"
   ]
  },
  {
   "cell_type": "code",
   "execution_count": null,
   "id": "643cfd1a",
   "metadata": {},
   "outputs": [],
   "source": [
    "from FlagEmbedding import FlagModel\n",
    "\n",
    "model = FlagModel('BAAI/bge-m3', use_fp16=True)\n",
    "tokenizer = model.tokenizer\n",
    "\n",
    "query_max_len = 0\n",
    "passage_max_len = 0\n",
    "\n",
    "for data in ds:\n",
    "    query_max_len = max(query_max_len, len(tokenizer.tokenize(data['query'])))\n",
    "\n",
    "    for passage in data['pos'] + data['neg']:\n",
    "        passage_max_len = max(passage_max_len, len(tokenizer.tokenize(passage)))\n",
    "\n",
    "print(\"query_max_len\")\n",
    "print(query_max_len) # 136\n",
    "\n",
    "print(\"passage_max_len\")\n",
    "print(passage_max_len) # 54"
   ]
  }
 ],
 "metadata": {
  "kernelspec": {
   "display_name": "lm",
   "language": "python",
   "name": "python3"
  },
  "language_info": {
   "codemirror_mode": {
    "name": "ipython",
    "version": 3
   },
   "file_extension": ".py",
   "mimetype": "text/x-python",
   "name": "python",
   "nbconvert_exporter": "python",
   "pygments_lexer": "ipython3",
   "version": "3.12.7"
  }
 },
 "nbformat": 4,
 "nbformat_minor": 5
}
