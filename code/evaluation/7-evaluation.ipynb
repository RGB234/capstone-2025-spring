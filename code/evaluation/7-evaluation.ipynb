{
 "cells": [
  {
   "cell_type": "markdown",
   "id": "e0ccfd4f",
   "metadata": {},
   "source": [
    "### evaluation.sh"
   ]
  },
  {
   "cell_type": "code",
   "execution_count": null,
   "id": "7682cc5c",
   "metadata": {
    "vscode": {
     "languageId": "shellscript"
    }
   },
   "outputs": [],
   "source": [
    "#!/usr/bin/bash\n",
    "#SBATCH -J bge-m3\n",
    "#SBATCH --gres=gpu:1\n",
    "#SBATCH --cpus-per-gpu=8\n",
    "#SBATCH --mem-per-gpu=32G\n",
    "#SBATCH -w aurora-g6\n",
    "#SBATCH -p batch_ugrad\n",
    "#SBATCH -t 1-0\n",
    "#SBATCH -o logs/slurm-%A.out\n",
    "\n",
    "python evaluation.py"
   ]
  }
 ],
 "metadata": {
  "kernelspec": {
   "display_name": "lm",
   "language": "python",
   "name": "python3"
  },
  "language_info": {
   "codemirror_mode": {
    "name": "ipython",
    "version": 3
   },
   "file_extension": ".py",
   "mimetype": "text/x-python",
   "name": "python",
   "nbconvert_exporter": "python",
   "pygments_lexer": "ipython3",
   "version": "3.12.7"
  }
 },
 "nbformat": 4,
 "nbformat_minor": 5
}
