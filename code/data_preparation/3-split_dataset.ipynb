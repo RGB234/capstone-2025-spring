{
 "cells": [
  {
   "cell_type": "code",
   "execution_count": 1,
   "id": "a6b48693",
   "metadata": {},
   "outputs": [
    {
     "data": {
      "application/vnd.jupyter.widget-view+json": {
       "model_id": "3e077a773d5241e3a3d42f27351f365c",
       "version_major": 2,
       "version_minor": 0
      },
      "text/plain": [
       "Generating train split: 0 examples [00:00, ? examples/s]"
      ]
     },
     "metadata": {},
     "output_type": "display_data"
    },
    {
     "data": {
      "text/plain": [
       "Dataset({\n",
       "    features: ['id', 'title', 'query', 'pos'],\n",
       "    num_rows: 363\n",
       "})"
      ]
     },
     "execution_count": 1,
     "metadata": {},
     "output_type": "execute_result"
    }
   ],
   "source": [
    "from datasets import load_dataset\n",
    "\n",
    "ds = load_dataset(\"json\", data_files=\"../data/relevant_incidents.jsonl\")['train']\n",
    "ds"
   ]
  },
  {
   "cell_type": "markdown",
   "id": "e2cd38b1",
   "metadata": {},
   "source": [
    "Data validation"
   ]
  },
  {
   "cell_type": "code",
   "execution_count": 2,
   "id": "9ba9e364",
   "metadata": {},
   "outputs": [],
   "source": [
    "K = len(ds[0]['pos'])\n",
    "for i, data in enumerate(ds):\n",
    "    pos_elements = len(data['pos'])\n",
    "    if (K != pos_elements): \n",
    "        print(ds[i])\n",
    "        print(pos_elements)"
   ]
  },
  {
   "cell_type": "markdown",
   "id": "5fd26720",
   "metadata": {},
   "source": [
    "Train / Test 분할  \n",
    "\n",
    "Validation or test 용도로 사용하기 위해 분할.  "
   ]
  },
  {
   "cell_type": "code",
   "execution_count": null,
   "id": "556617f1",
   "metadata": {},
   "outputs": [],
   "source": [
    "from datasets import load_dataset\n",
    "import json\n",
    "\n",
    "ds_train = []\n",
    "ds_test = []\n",
    "\n",
    "for i, data in enumerate(ds):\n",
    "    id = data['id']\n",
    "    title = data['title']\n",
    "    query = data['query']\n",
    "    pos = data['pos']\n",
    "    ds_train.append({'id' : id, 'title': title, 'query': query, 'pos' : pos[:-1]})\n",
    "    ds_test.append({'id' : id, 'title': title, 'query': query, 'pos' : [pos[-1]]})\n",
    "\n",
    "\n",
    "train_fname = \"relevant_incidents_train.jsonl\"\n",
    "test_fname = \"relevant_incidents_test.jsonl\"\n",
    "\n",
    "def save_list_as_jsonl(path : str, list : list):\n",
    "    with open(path, 'w', encoding='utf-8') as f:\n",
    "        for data in list:\n",
    "            json.dump(data, f, ensure_ascii=False)\n",
    "            f.write('\\n')\n",
    "\n",
    "save_list_as_jsonl(f\"../data/{train_fname}\", ds_train)\n",
    "save_list_as_jsonl(f\"../data/{test_fname}\", ds_test)"
   ]
  },
  {
   "cell_type": "markdown",
   "id": "69096fb8",
   "metadata": {},
   "source": [
    "확인"
   ]
  },
  {
   "cell_type": "code",
   "execution_count": null,
   "id": "de598523",
   "metadata": {},
   "outputs": [],
   "source": [
    "train_ds = load_dataset(\"json\", data_files=\"../data/relevant_incidents_train.jsonl\")\n",
    "train_ds"
   ]
  },
  {
   "cell_type": "code",
   "execution_count": null,
   "id": "6ac94781",
   "metadata": {},
   "outputs": [],
   "source": [
    "from datasets import load_dataset\n",
    "\n",
    "test_ds = load_dataset(\"json\", data_files=\"../data/relevant_incidents_test.jsonl\", split='train')\n",
    "test_ds"
   ]
  }
 ],
 "metadata": {
  "kernelspec": {
   "display_name": "lm",
   "language": "python",
   "name": "python3"
  },
  "language_info": {
   "codemirror_mode": {
    "name": "ipython",
    "version": 3
   },
   "file_extension": ".py",
   "mimetype": "text/x-python",
   "name": "python",
   "nbconvert_exporter": "python",
   "pygments_lexer": "ipython3",
   "version": "3.12.7"
  }
 },
 "nbformat": 4,
 "nbformat_minor": 5
}
