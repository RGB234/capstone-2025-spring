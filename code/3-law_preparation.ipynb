{
 "cells": [
  {
   "cell_type": "markdown",
   "id": "516f4e4e",
   "metadata": {},
   "source": [
    "## 판례문 chunking"
   ]
  },
  {
   "cell_type": "code",
   "execution_count": null,
   "id": "e4779547",
   "metadata": {},
   "outputs": [],
   "source": [
    "from konlpy.tag import Okt\n",
    "import pandas as pd\n",
    "import re\n",
    "import requests\n",
    "\n",
    "def comma_parsing(okt : Okt, text: str) -> list[str]: \n",
    "    chunks = re.split(r\"\\,[^0-9]\", text)\n",
    "    chunks_info = []\n",
    "\n",
    "    # 구/절 구분\n",
    "    for i in range(len(chunks)):\n",
    "        is_clause = False\n",
    "        for pos in okt.pos(chunks[i]):\n",
    "            # 한국어 문장 기본 구조는 : 주어 + 목적어 + 서술어, 주어 + 보어 + 서술어, 주어 + 서술어\n",
    "            # 서술어 : 동사, 형용사, 서술격 조사 -이다\n",
    "            # 동사, 형용사 존재 시 완전한 문장인 절로 간주\n",
    "            # 예외적인 경우는 무시. 예외에 해당하는 문장은 단순하고 짧은 문장일 것이므로 결과에 지장이 없을 것으로 예상.\n",
    "            if (pos[1]) in [\"Verb\", \"Adjective\"]: \n",
    "                is_clause = True\n",
    "                break\n",
    "        chunks_info.append(is_clause)\n",
    "\n",
    "    # 병합\n",
    "    # 콤마는 제거된다\n",
    "    data = []\n",
    "    clause = ''\n",
    "    for i in range(len(chunks_info)):\n",
    "        is_clause = chunks_info[i]\n",
    "        # 절(완전한 문장)\n",
    "        if is_clause:\n",
    "            clause += \" \" + chunks[i]\n",
    "            data.append(clause.strip())\n",
    "            clause = ''\n",
    "        # 명사구\n",
    "        else:\n",
    "            clause += \" \" + chunks[i]\n",
    "\n",
    "    # test log\n",
    "    # for i in range(len(chunks)):\n",
    "    #   print(f\"{chunks[i]} : {chunks_info[i]}\")\n",
    "\n",
    "    return data \n",
    "                \n",
    "\n",
    "def preprocessing_content(url) -> pd.DataFrame:\n",
    "    try:\n",
    "        content = requests.get(url).json()[\"PrecService\"][\"판례내용\"]\n",
    "    except requests.exceptions.RequestException as e:\n",
    "        print(e)\n",
    "        return\n",
    "\n",
    "    # parsed = re.split(r\"【이\\s+유】\", content)\n",
    "\n",
    "    data = []\n",
    "\n",
    "    # lines = parsed[1].split(\"<br/>\")\n",
    "    lines = content.split(\"<br/>\")\n",
    "    for line in lines:\n",
    "        line = line.strip()\n",
    "\n",
    "        line = re.sub(r\"^([0-9]{1,2}|[가-하])[).]\", \"\", line)  # 목차 제거\n",
    "        line = re.sub(r\"\\.\", \"\", line)  # 온점 제거\n",
    "        line = re.sub(r\"[‘’“”]\", \"\", line)  # 따옴표 제거\n",
    "        line = re.sub(r\"·\", \"\", line) # · 기호 제거\n",
    "        line = re.sub(f\"[\\u2460-\\u2473]\", \"\", line) # [\\u2460-\\u2473] : 1-20 ①②③④⑤⑥⑦⑧⑨⑩⑪⑫⑬⑭⑮⑯⑰⑱⑲⑳ [\\u3251-\\u32BF] : 21-50\n",
    "        line = re.sub(f\"[\\u326e-\\u327b]\", \"\", line) # [\\u326e-\\u327b] ㉮-㉻\n",
    "\n",
    "        data += comma_parsing(Okt(), line)\n",
    "\n",
    "    df = pd.DataFrame(data, columns=[\"text\"])\n",
    "    return df"
   ]
  },
  {
   "cell_type": "markdown",
   "id": "881e86cd",
   "metadata": {},
   "source": [
    "## 참조 법령 스캔"
   ]
  },
  {
   "cell_type": "code",
   "execution_count": null,
   "id": "eaba74cc",
   "metadata": {},
   "outputs": [],
   "source": []
  },
  {
   "cell_type": "markdown",
   "id": "79cb8620",
   "metadata": {},
   "source": [
    "## Query - Pos 쌍 생성\n",
    "query : 법령  \n",
    "pos : (연관) 판례문 내용 문장"
   ]
  },
  {
   "cell_type": "code",
   "execution_count": null,
   "id": "665e9ec0",
   "metadata": {},
   "outputs": [],
   "source": []
  }
 ],
 "metadata": {
  "kernelspec": {
   "display_name": "lm",
   "language": "python",
   "name": "python3"
  },
  "language_info": {
   "name": "python",
   "version": "3.12.7"
  }
 },
 "nbformat": 4,
 "nbformat_minor": 5
}
